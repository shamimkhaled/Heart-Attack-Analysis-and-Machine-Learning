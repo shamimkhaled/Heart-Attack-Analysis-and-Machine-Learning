{
 "cells": [
  {
   "cell_type": "code",
   "execution_count": 1,
   "id": "ab8f07ca",
   "metadata": {},
   "outputs": [],
   "source": [
    "import numpy as np\n",
    "import pandas as pd\n",
    "import seaborn  \n",
    "import matplotlib.pyplot as plt\n",
    "from sklearn.preprocessing import LabelEncoder"
   ]
  },
  {
   "cell_type": "code",
   "execution_count": 2,
   "id": "244bbf1c",
   "metadata": {},
   "outputs": [
    {
     "data": {
      "text/html": [
       "<div>\n",
       "<style scoped>\n",
       "    .dataframe tbody tr th:only-of-type {\n",
       "        vertical-align: middle;\n",
       "    }\n",
       "\n",
       "    .dataframe tbody tr th {\n",
       "        vertical-align: top;\n",
       "    }\n",
       "\n",
       "    .dataframe thead th {\n",
       "        text-align: right;\n",
       "    }\n",
       "</style>\n",
       "<table border=\"1\" class=\"dataframe\">\n",
       "  <thead>\n",
       "    <tr style=\"text-align: right;\">\n",
       "      <th></th>\n",
       "      <th>Age</th>\n",
       "      <th>Sex</th>\n",
       "      <th>ChestPainType</th>\n",
       "      <th>RestingBP</th>\n",
       "      <th>Cholesterol</th>\n",
       "      <th>FastingBS</th>\n",
       "      <th>RestingECG</th>\n",
       "      <th>MaxHR</th>\n",
       "      <th>ExerciseAngina</th>\n",
       "      <th>Oldpeak</th>\n",
       "      <th>ST_Slope</th>\n",
       "      <th>HeartDisease</th>\n",
       "    </tr>\n",
       "  </thead>\n",
       "  <tbody>\n",
       "    <tr>\n",
       "      <th>0</th>\n",
       "      <td>40</td>\n",
       "      <td>M</td>\n",
       "      <td>ATA</td>\n",
       "      <td>140</td>\n",
       "      <td>289</td>\n",
       "      <td>0</td>\n",
       "      <td>Normal</td>\n",
       "      <td>172</td>\n",
       "      <td>N</td>\n",
       "      <td>0.0</td>\n",
       "      <td>Up</td>\n",
       "      <td>0</td>\n",
       "    </tr>\n",
       "    <tr>\n",
       "      <th>1</th>\n",
       "      <td>49</td>\n",
       "      <td>F</td>\n",
       "      <td>NAP</td>\n",
       "      <td>160</td>\n",
       "      <td>180</td>\n",
       "      <td>0</td>\n",
       "      <td>Normal</td>\n",
       "      <td>156</td>\n",
       "      <td>N</td>\n",
       "      <td>1.0</td>\n",
       "      <td>Flat</td>\n",
       "      <td>1</td>\n",
       "    </tr>\n",
       "    <tr>\n",
       "      <th>2</th>\n",
       "      <td>37</td>\n",
       "      <td>M</td>\n",
       "      <td>ATA</td>\n",
       "      <td>130</td>\n",
       "      <td>283</td>\n",
       "      <td>0</td>\n",
       "      <td>ST</td>\n",
       "      <td>98</td>\n",
       "      <td>N</td>\n",
       "      <td>0.0</td>\n",
       "      <td>Up</td>\n",
       "      <td>0</td>\n",
       "    </tr>\n",
       "    <tr>\n",
       "      <th>3</th>\n",
       "      <td>48</td>\n",
       "      <td>F</td>\n",
       "      <td>ASY</td>\n",
       "      <td>138</td>\n",
       "      <td>214</td>\n",
       "      <td>0</td>\n",
       "      <td>Normal</td>\n",
       "      <td>108</td>\n",
       "      <td>Y</td>\n",
       "      <td>1.5</td>\n",
       "      <td>Flat</td>\n",
       "      <td>1</td>\n",
       "    </tr>\n",
       "    <tr>\n",
       "      <th>4</th>\n",
       "      <td>54</td>\n",
       "      <td>M</td>\n",
       "      <td>NAP</td>\n",
       "      <td>150</td>\n",
       "      <td>195</td>\n",
       "      <td>0</td>\n",
       "      <td>Normal</td>\n",
       "      <td>122</td>\n",
       "      <td>N</td>\n",
       "      <td>0.0</td>\n",
       "      <td>Up</td>\n",
       "      <td>0</td>\n",
       "    </tr>\n",
       "  </tbody>\n",
       "</table>\n",
       "</div>"
      ],
      "text/plain": [
       "   Age Sex ChestPainType  RestingBP  Cholesterol  FastingBS RestingECG  MaxHR  \\\n",
       "0   40   M           ATA        140          289          0     Normal    172   \n",
       "1   49   F           NAP        160          180          0     Normal    156   \n",
       "2   37   M           ATA        130          283          0         ST     98   \n",
       "3   48   F           ASY        138          214          0     Normal    108   \n",
       "4   54   M           NAP        150          195          0     Normal    122   \n",
       "\n",
       "  ExerciseAngina  Oldpeak ST_Slope  HeartDisease  \n",
       "0              N      0.0       Up             0  \n",
       "1              N      1.0     Flat             1  \n",
       "2              N      0.0       Up             0  \n",
       "3              Y      1.5     Flat             1  \n",
       "4              N      0.0       Up             0  "
      ]
     },
     "execution_count": 2,
     "metadata": {},
     "output_type": "execute_result"
    }
   ],
   "source": [
    "dataset = pd.read_csv('heart.csv')\n",
    "dataset.head()"
   ]
  },
  {
   "cell_type": "code",
   "execution_count": 3,
   "id": "8a9a6deb",
   "metadata": {},
   "outputs": [
    {
     "data": {
      "text/html": [
       "<div>\n",
       "<style scoped>\n",
       "    .dataframe tbody tr th:only-of-type {\n",
       "        vertical-align: middle;\n",
       "    }\n",
       "\n",
       "    .dataframe tbody tr th {\n",
       "        vertical-align: top;\n",
       "    }\n",
       "\n",
       "    .dataframe thead th {\n",
       "        text-align: right;\n",
       "    }\n",
       "</style>\n",
       "<table border=\"1\" class=\"dataframe\">\n",
       "  <thead>\n",
       "    <tr style=\"text-align: right;\">\n",
       "      <th></th>\n",
       "      <th>Age</th>\n",
       "      <th>Sex</th>\n",
       "      <th>ChestPainType</th>\n",
       "      <th>RestingBP</th>\n",
       "      <th>Cholesterol</th>\n",
       "      <th>FastingBS</th>\n",
       "      <th>RestingECG</th>\n",
       "      <th>MaxHR</th>\n",
       "      <th>ExerciseAngina</th>\n",
       "      <th>Oldpeak</th>\n",
       "      <th>ST_Slope</th>\n",
       "      <th>HeartDisease</th>\n",
       "    </tr>\n",
       "  </thead>\n",
       "  <tbody>\n",
       "    <tr>\n",
       "      <th>0</th>\n",
       "      <td>40</td>\n",
       "      <td>M</td>\n",
       "      <td>ATA</td>\n",
       "      <td>140</td>\n",
       "      <td>289</td>\n",
       "      <td>0</td>\n",
       "      <td>Normal</td>\n",
       "      <td>172</td>\n",
       "      <td>N</td>\n",
       "      <td>0.0</td>\n",
       "      <td>Up</td>\n",
       "      <td>0</td>\n",
       "    </tr>\n",
       "    <tr>\n",
       "      <th>1</th>\n",
       "      <td>49</td>\n",
       "      <td>F</td>\n",
       "      <td>NAP</td>\n",
       "      <td>160</td>\n",
       "      <td>180</td>\n",
       "      <td>0</td>\n",
       "      <td>Normal</td>\n",
       "      <td>156</td>\n",
       "      <td>N</td>\n",
       "      <td>1.0</td>\n",
       "      <td>Flat</td>\n",
       "      <td>1</td>\n",
       "    </tr>\n",
       "    <tr>\n",
       "      <th>2</th>\n",
       "      <td>37</td>\n",
       "      <td>M</td>\n",
       "      <td>ATA</td>\n",
       "      <td>130</td>\n",
       "      <td>283</td>\n",
       "      <td>0</td>\n",
       "      <td>ST</td>\n",
       "      <td>98</td>\n",
       "      <td>N</td>\n",
       "      <td>0.0</td>\n",
       "      <td>Up</td>\n",
       "      <td>0</td>\n",
       "    </tr>\n",
       "    <tr>\n",
       "      <th>3</th>\n",
       "      <td>48</td>\n",
       "      <td>F</td>\n",
       "      <td>ASY</td>\n",
       "      <td>138</td>\n",
       "      <td>214</td>\n",
       "      <td>0</td>\n",
       "      <td>Normal</td>\n",
       "      <td>108</td>\n",
       "      <td>Y</td>\n",
       "      <td>1.5</td>\n",
       "      <td>Flat</td>\n",
       "      <td>1</td>\n",
       "    </tr>\n",
       "    <tr>\n",
       "      <th>4</th>\n",
       "      <td>54</td>\n",
       "      <td>M</td>\n",
       "      <td>NAP</td>\n",
       "      <td>150</td>\n",
       "      <td>195</td>\n",
       "      <td>0</td>\n",
       "      <td>Normal</td>\n",
       "      <td>122</td>\n",
       "      <td>N</td>\n",
       "      <td>0.0</td>\n",
       "      <td>Up</td>\n",
       "      <td>0</td>\n",
       "    </tr>\n",
       "    <tr>\n",
       "      <th>...</th>\n",
       "      <td>...</td>\n",
       "      <td>...</td>\n",
       "      <td>...</td>\n",
       "      <td>...</td>\n",
       "      <td>...</td>\n",
       "      <td>...</td>\n",
       "      <td>...</td>\n",
       "      <td>...</td>\n",
       "      <td>...</td>\n",
       "      <td>...</td>\n",
       "      <td>...</td>\n",
       "      <td>...</td>\n",
       "    </tr>\n",
       "    <tr>\n",
       "      <th>913</th>\n",
       "      <td>45</td>\n",
       "      <td>M</td>\n",
       "      <td>TA</td>\n",
       "      <td>110</td>\n",
       "      <td>264</td>\n",
       "      <td>0</td>\n",
       "      <td>Normal</td>\n",
       "      <td>132</td>\n",
       "      <td>N</td>\n",
       "      <td>1.2</td>\n",
       "      <td>Flat</td>\n",
       "      <td>1</td>\n",
       "    </tr>\n",
       "    <tr>\n",
       "      <th>914</th>\n",
       "      <td>68</td>\n",
       "      <td>M</td>\n",
       "      <td>ASY</td>\n",
       "      <td>144</td>\n",
       "      <td>193</td>\n",
       "      <td>1</td>\n",
       "      <td>Normal</td>\n",
       "      <td>141</td>\n",
       "      <td>N</td>\n",
       "      <td>3.4</td>\n",
       "      <td>Flat</td>\n",
       "      <td>1</td>\n",
       "    </tr>\n",
       "    <tr>\n",
       "      <th>915</th>\n",
       "      <td>57</td>\n",
       "      <td>M</td>\n",
       "      <td>ASY</td>\n",
       "      <td>130</td>\n",
       "      <td>131</td>\n",
       "      <td>0</td>\n",
       "      <td>Normal</td>\n",
       "      <td>115</td>\n",
       "      <td>Y</td>\n",
       "      <td>1.2</td>\n",
       "      <td>Flat</td>\n",
       "      <td>1</td>\n",
       "    </tr>\n",
       "    <tr>\n",
       "      <th>916</th>\n",
       "      <td>57</td>\n",
       "      <td>F</td>\n",
       "      <td>ATA</td>\n",
       "      <td>130</td>\n",
       "      <td>236</td>\n",
       "      <td>0</td>\n",
       "      <td>LVH</td>\n",
       "      <td>174</td>\n",
       "      <td>N</td>\n",
       "      <td>0.0</td>\n",
       "      <td>Flat</td>\n",
       "      <td>1</td>\n",
       "    </tr>\n",
       "    <tr>\n",
       "      <th>917</th>\n",
       "      <td>38</td>\n",
       "      <td>M</td>\n",
       "      <td>NAP</td>\n",
       "      <td>138</td>\n",
       "      <td>175</td>\n",
       "      <td>0</td>\n",
       "      <td>Normal</td>\n",
       "      <td>173</td>\n",
       "      <td>N</td>\n",
       "      <td>0.0</td>\n",
       "      <td>Up</td>\n",
       "      <td>0</td>\n",
       "    </tr>\n",
       "  </tbody>\n",
       "</table>\n",
       "<p>918 rows × 12 columns</p>\n",
       "</div>"
      ],
      "text/plain": [
       "     Age Sex ChestPainType  RestingBP  Cholesterol  FastingBS RestingECG  \\\n",
       "0     40   M           ATA        140          289          0     Normal   \n",
       "1     49   F           NAP        160          180          0     Normal   \n",
       "2     37   M           ATA        130          283          0         ST   \n",
       "3     48   F           ASY        138          214          0     Normal   \n",
       "4     54   M           NAP        150          195          0     Normal   \n",
       "..   ...  ..           ...        ...          ...        ...        ...   \n",
       "913   45   M            TA        110          264          0     Normal   \n",
       "914   68   M           ASY        144          193          1     Normal   \n",
       "915   57   M           ASY        130          131          0     Normal   \n",
       "916   57   F           ATA        130          236          0        LVH   \n",
       "917   38   M           NAP        138          175          0     Normal   \n",
       "\n",
       "     MaxHR ExerciseAngina  Oldpeak ST_Slope  HeartDisease  \n",
       "0      172              N      0.0       Up             0  \n",
       "1      156              N      1.0     Flat             1  \n",
       "2       98              N      0.0       Up             0  \n",
       "3      108              Y      1.5     Flat             1  \n",
       "4      122              N      0.0       Up             0  \n",
       "..     ...            ...      ...      ...           ...  \n",
       "913    132              N      1.2     Flat             1  \n",
       "914    141              N      3.4     Flat             1  \n",
       "915    115              Y      1.2     Flat             1  \n",
       "916    174              N      0.0     Flat             1  \n",
       "917    173              N      0.0       Up             0  \n",
       "\n",
       "[918 rows x 12 columns]"
      ]
     },
     "execution_count": 3,
     "metadata": {},
     "output_type": "execute_result"
    }
   ],
   "source": [
    "dataset"
   ]
  },
  {
   "cell_type": "code",
   "execution_count": 4,
   "id": "21c2f16f",
   "metadata": {},
   "outputs": [
    {
     "name": "stdout",
     "output_type": "stream",
     "text": [
      "<class 'pandas.core.frame.DataFrame'>\n",
      "RangeIndex: 918 entries, 0 to 917\n",
      "Data columns (total 12 columns):\n",
      " #   Column          Non-Null Count  Dtype  \n",
      "---  ------          --------------  -----  \n",
      " 0   Age             918 non-null    int64  \n",
      " 1   Sex             918 non-null    object \n",
      " 2   ChestPainType   918 non-null    object \n",
      " 3   RestingBP       918 non-null    int64  \n",
      " 4   Cholesterol     918 non-null    int64  \n",
      " 5   FastingBS       918 non-null    int64  \n",
      " 6   RestingECG      918 non-null    object \n",
      " 7   MaxHR           918 non-null    int64  \n",
      " 8   ExerciseAngina  918 non-null    object \n",
      " 9   Oldpeak         918 non-null    float64\n",
      " 10  ST_Slope        918 non-null    object \n",
      " 11  HeartDisease    918 non-null    int64  \n",
      "dtypes: float64(1), int64(6), object(5)\n",
      "memory usage: 86.2+ KB\n"
     ]
    }
   ],
   "source": [
    "dataset.info()"
   ]
  },
  {
   "cell_type": "code",
   "execution_count": 5,
   "id": "b5ce5088",
   "metadata": {},
   "outputs": [
    {
     "data": {
      "text/plain": [
       "False"
      ]
     },
     "execution_count": 5,
     "metadata": {},
     "output_type": "execute_result"
    }
   ],
   "source": [
    "dataset.isnull().values.any()"
   ]
  },
  {
   "cell_type": "code",
   "execution_count": 6,
   "id": "7612a724",
   "metadata": {},
   "outputs": [
    {
     "data": {
      "text/plain": [
       "0"
      ]
     },
     "execution_count": 6,
     "metadata": {},
     "output_type": "execute_result"
    }
   ],
   "source": [
    "dataset.duplicated().sum()"
   ]
  },
  {
   "cell_type": "code",
   "execution_count": 7,
   "id": "dbe5718a",
   "metadata": {},
   "outputs": [
    {
     "data": {
      "text/plain": [
       "Age               0\n",
       "Sex               0\n",
       "ChestPainType     0\n",
       "RestingBP         0\n",
       "Cholesterol       0\n",
       "FastingBS         0\n",
       "RestingECG        0\n",
       "MaxHR             0\n",
       "ExerciseAngina    0\n",
       "Oldpeak           0\n",
       "ST_Slope          0\n",
       "HeartDisease      0\n",
       "dtype: int64"
      ]
     },
     "execution_count": 7,
     "metadata": {},
     "output_type": "execute_result"
    }
   ],
   "source": [
    "dataset.isnull().sum()"
   ]
  },
  {
   "cell_type": "code",
   "execution_count": 8,
   "id": "1ceaaf30",
   "metadata": {},
   "outputs": [
    {
     "data": {
      "text/plain": [
       "1    508\n",
       "0    410\n",
       "Name: HeartDisease, dtype: int64"
      ]
     },
     "execution_count": 8,
     "metadata": {},
     "output_type": "execute_result"
    }
   ],
   "source": [
    "dataset['HeartDisease'].value_counts()"
   ]
  },
  {
   "cell_type": "code",
   "execution_count": 9,
   "id": "ca976ec5",
   "metadata": {},
   "outputs": [
    {
     "name": "stdout",
     "output_type": "stream",
     "text": [
      "M    725\n",
      "F    193\n",
      "Name: Sex, dtype: int64\n"
     ]
    },
    {
     "data": {
      "text/plain": [
       "<AxesSubplot:xlabel='Sex', ylabel='count'>"
      ]
     },
     "execution_count": 9,
     "metadata": {},
     "output_type": "execute_result"
    },
    {
     "data": {
      "image/png": "[encoded data removed]",
      "text/plain": [
       "<Figure size 432x288 with 1 Axes>"
      ]
     },
     "metadata": {
      "needs_background": "light"
     },
     "output_type": "display_data"
    }
   ],
   "source": [
    "x = dataset['Sex'].value_counts()\n",
    "print(x)\n",
    "seaborn.countplot(x = 'Sex', hue = 'HeartDisease', data = dataset, palette = 'colorblind', edgecolor = seaborn.color_palette('dark', n_colors = 1))"
   ]
  },
  {
   "cell_type": "code",
   "execution_count": 10,
   "id": "4e82ed82",
   "metadata": {},
   "outputs": [],
   "source": [
    "lbl=LabelEncoder()\n",
    "categorical=['Sex','ChestPainType','RestingECG','ExerciseAngina','ST_Slope'] #convert data to categorical data\n",
    "for i in categorical:\n",
    "  dataset[i]=lbl.fit_transform(dataset[i])\n"
   ]
  },
  {
   "cell_type": "code",
   "execution_count": 11,
   "id": "0f149499",
   "metadata": {},
   "outputs": [
    {
     "data": {
      "text/html": [
       "<div>\n",
       "<style scoped>\n",
       "    .dataframe tbody tr th:only-of-type {\n",
       "        vertical-align: middle;\n",
       "    }\n",
       "\n",
       "    .dataframe tbody tr th {\n",
       "        vertical-align: top;\n",
       "    }\n",
       "\n",
       "    .dataframe thead th {\n",
       "        text-align: right;\n",
       "    }\n",
       "</style>\n",
       "<table border=\"1\" class=\"dataframe\">\n",
       "  <thead>\n",
       "    <tr style=\"text-align: right;\">\n",
       "      <th></th>\n",
       "      <th>Age</th>\n",
       "      <th>Sex</th>\n",
       "      <th>ChestPainType</th>\n",
       "      <th>RestingBP</th>\n",
       "      <th>Cholesterol</th>\n",
       "      <th>FastingBS</th>\n",
       "      <th>RestingECG</th>\n",
       "      <th>MaxHR</th>\n",
       "      <th>ExerciseAngina</th>\n",
       "      <th>Oldpeak</th>\n",
       "      <th>ST_Slope</th>\n",
       "      <th>HeartDisease</th>\n",
       "    </tr>\n",
       "  </thead>\n",
       "  <tbody>\n",
       "    <tr>\n",
       "      <th>count</th>\n",
       "      <td>918.000000</td>\n",
       "      <td>918.000000</td>\n",
       "      <td>918.000000</td>\n",
       "      <td>918.000000</td>\n",
       "      <td>918.000000</td>\n",
       "      <td>918.000000</td>\n",
       "      <td>918.000000</td>\n",
       "      <td>918.000000</td>\n",
       "      <td>918.000000</td>\n",
       "      <td>918.000000</td>\n",
       "      <td>918.000000</td>\n",
       "      <td>918.000000</td>\n",
       "    </tr>\n",
       "    <tr>\n",
       "      <th>mean</th>\n",
       "      <td>53.510893</td>\n",
       "      <td>0.789760</td>\n",
       "      <td>0.781046</td>\n",
       "      <td>132.396514</td>\n",
       "      <td>198.799564</td>\n",
       "      <td>0.233115</td>\n",
       "      <td>0.989107</td>\n",
       "      <td>136.809368</td>\n",
       "      <td>0.404139</td>\n",
       "      <td>0.887364</td>\n",
       "      <td>1.361656</td>\n",
       "      <td>0.553377</td>\n",
       "    </tr>\n",
       "    <tr>\n",
       "      <th>std</th>\n",
       "      <td>9.432617</td>\n",
       "      <td>0.407701</td>\n",
       "      <td>0.956519</td>\n",
       "      <td>18.514154</td>\n",
       "      <td>109.384145</td>\n",
       "      <td>0.423046</td>\n",
       "      <td>0.631671</td>\n",
       "      <td>25.460334</td>\n",
       "      <td>0.490992</td>\n",
       "      <td>1.066570</td>\n",
       "      <td>0.607056</td>\n",
       "      <td>0.497414</td>\n",
       "    </tr>\n",
       "    <tr>\n",
       "      <th>min</th>\n",
       "      <td>28.000000</td>\n",
       "      <td>0.000000</td>\n",
       "      <td>0.000000</td>\n",
       "      <td>0.000000</td>\n",
       "      <td>0.000000</td>\n",
       "      <td>0.000000</td>\n",
       "      <td>0.000000</td>\n",
       "      <td>60.000000</td>\n",
       "      <td>0.000000</td>\n",
       "      <td>-2.600000</td>\n",
       "      <td>0.000000</td>\n",
       "      <td>0.000000</td>\n",
       "    </tr>\n",
       "    <tr>\n",
       "      <th>25%</th>\n",
       "      <td>47.000000</td>\n",
       "      <td>1.000000</td>\n",
       "      <td>0.000000</td>\n",
       "      <td>120.000000</td>\n",
       "      <td>173.250000</td>\n",
       "      <td>0.000000</td>\n",
       "      <td>1.000000</td>\n",
       "      <td>120.000000</td>\n",
       "      <td>0.000000</td>\n",
       "      <td>0.000000</td>\n",
       "      <td>1.000000</td>\n",
       "      <td>0.000000</td>\n",
       "    </tr>\n",
       "    <tr>\n",
       "      <th>50%</th>\n",
       "      <td>54.000000</td>\n",
       "      <td>1.000000</td>\n",
       "      <td>0.000000</td>\n",
       "      <td>130.000000</td>\n",
       "      <td>223.000000</td>\n",
       "      <td>0.000000</td>\n",
       "      <td>1.000000</td>\n",
       "      <td>138.000000</td>\n",
       "      <td>0.000000</td>\n",
       "      <td>0.600000</td>\n",
       "      <td>1.000000</td>\n",
       "      <td>1.000000</td>\n",
       "    </tr>\n",
       "    <tr>\n",
       "      <th>75%</th>\n",
       "      <td>60.000000</td>\n",
       "      <td>1.000000</td>\n",
       "      <td>2.000000</td>\n",
       "      <td>140.000000</td>\n",
       "      <td>267.000000</td>\n",
       "      <td>0.000000</td>\n",
       "      <td>1.000000</td>\n",
       "      <td>156.000000</td>\n",
       "      <td>1.000000</td>\n",
       "      <td>1.500000</td>\n",
       "      <td>2.000000</td>\n",
       "      <td>1.000000</td>\n",
       "    </tr>\n",
       "    <tr>\n",
       "      <th>max</th>\n",
       "      <td>77.000000</td>\n",
       "      <td>1.000000</td>\n",
       "      <td>3.000000</td>\n",
       "      <td>200.000000</td>\n",
       "      <td>603.000000</td>\n",
       "      <td>1.000000</td>\n",
       "      <td>2.000000</td>\n",
       "      <td>202.000000</td>\n",
       "      <td>1.000000</td>\n",
       "      <td>6.200000</td>\n",
       "      <td>2.000000</td>\n",
       "      <td>1.000000</td>\n",
       "    </tr>\n",
       "  </tbody>\n",
       "</table>\n",
       "</div>"
      ],
      "text/plain": [
       "              Age         Sex  ChestPainType   RestingBP  Cholesterol  \\\n",
       "count  918.000000  918.000000     918.000000  918.000000   918.000000   \n",
       "mean    53.510893    0.789760       0.781046  132.396514   198.799564   \n",
       "std      9.432617    0.407701       0.956519   18.514154   109.384145   \n",
       "min     28.000000    0.000000       0.000000    0.000000     0.000000   \n",
       "25%     47.000000    1.000000       0.000000  120.000000   173.250000   \n",
       "50%     54.000000    1.000000       0.000000  130.000000   223.000000   \n",
       "75%     60.000000    1.000000       2.000000  140.000000   267.000000   \n",
       "max     77.000000    1.000000       3.000000  200.000000   603.000000   \n",
       "\n",
       "        FastingBS  RestingECG       MaxHR  ExerciseAngina     Oldpeak  \\\n",
       "count  918.000000  918.000000  918.000000      918.000000  918.000000   \n",
       "mean     0.233115    0.989107  136.809368        0.404139    0.887364   \n",
       "std      0.423046    0.631671   25.460334        0.490992    1.066570   \n",
       "min      0.000000    0.000000   60.000000        0.000000   -2.600000   \n",
       "25%      0.000000    1.000000  120.000000        0.000000    0.000000   \n",
       "50%      0.000000    1.000000  138.000000        0.000000    0.600000   \n",
       "75%      0.000000    1.000000  156.000000        1.000000    1.500000   \n",
       "max      1.000000    2.000000  202.000000        1.000000    6.200000   \n",
       "\n",
       "         ST_Slope  HeartDisease  \n",
       "count  918.000000    918.000000  \n",
       "mean     1.361656      0.553377  \n",
       "std      0.607056      0.497414  \n",
       "min      0.000000      0.000000  \n",
       "25%      1.000000      0.000000  \n",
       "50%      1.000000      1.000000  \n",
       "75%      2.000000      1.000000  \n",
       "max      2.000000      1.000000  "
      ]
     },
     "execution_count": 11,
     "metadata": {},
     "output_type": "execute_result"
    }
   ],
   "source": [
    "dataset.describe()"
   ]
  },
  {
   "cell_type": "code",
   "execution_count": 12,
   "id": "7ebb7c59",
   "metadata": {},
   "outputs": [
    {
     "data": {
      "text/html": [
       "<div>\n",
       "<style scoped>\n",
       "    .dataframe tbody tr th:only-of-type {\n",
       "        vertical-align: middle;\n",
       "    }\n",
       "\n",
       "    .dataframe tbody tr th {\n",
       "        vertical-align: top;\n",
       "    }\n",
       "\n",
       "    .dataframe thead th {\n",
       "        text-align: right;\n",
       "    }\n",
       "</style>\n",
       "<table border=\"1\" class=\"dataframe\">\n",
       "  <thead>\n",
       "    <tr style=\"text-align: right;\">\n",
       "      <th></th>\n",
       "      <th>Age</th>\n",
       "      <th>Sex</th>\n",
       "      <th>ChestPainType</th>\n",
       "      <th>RestingBP</th>\n",
       "      <th>Cholesterol</th>\n",
       "      <th>FastingBS</th>\n",
       "      <th>RestingECG</th>\n",
       "      <th>MaxHR</th>\n",
       "      <th>ExerciseAngina</th>\n",
       "      <th>Oldpeak</th>\n",
       "      <th>ST_Slope</th>\n",
       "      <th>HeartDisease</th>\n",
       "    </tr>\n",
       "  </thead>\n",
       "  <tbody>\n",
       "    <tr>\n",
       "      <th>Age</th>\n",
       "      <td>1.000000</td>\n",
       "      <td>0.055750</td>\n",
       "      <td>-0.077150</td>\n",
       "      <td>0.254399</td>\n",
       "      <td>-0.095282</td>\n",
       "      <td>0.198039</td>\n",
       "      <td>-0.007484</td>\n",
       "      <td>-0.382045</td>\n",
       "      <td>0.215793</td>\n",
       "      <td>0.258612</td>\n",
       "      <td>-0.268264</td>\n",
       "      <td>0.282039</td>\n",
       "    </tr>\n",
       "    <tr>\n",
       "      <th>Sex</th>\n",
       "      <td>0.055750</td>\n",
       "      <td>1.000000</td>\n",
       "      <td>-0.126559</td>\n",
       "      <td>0.005133</td>\n",
       "      <td>-0.200092</td>\n",
       "      <td>0.120076</td>\n",
       "      <td>0.071552</td>\n",
       "      <td>-0.189186</td>\n",
       "      <td>0.190664</td>\n",
       "      <td>0.105734</td>\n",
       "      <td>-0.150693</td>\n",
       "      <td>0.305445</td>\n",
       "    </tr>\n",
       "    <tr>\n",
       "      <th>ChestPainType</th>\n",
       "      <td>-0.077150</td>\n",
       "      <td>-0.126559</td>\n",
       "      <td>1.000000</td>\n",
       "      <td>-0.020647</td>\n",
       "      <td>0.067880</td>\n",
       "      <td>-0.073151</td>\n",
       "      <td>-0.072537</td>\n",
       "      <td>0.289123</td>\n",
       "      <td>-0.354727</td>\n",
       "      <td>-0.177377</td>\n",
       "      <td>0.213521</td>\n",
       "      <td>-0.386828</td>\n",
       "    </tr>\n",
       "    <tr>\n",
       "      <th>RestingBP</th>\n",
       "      <td>0.254399</td>\n",
       "      <td>0.005133</td>\n",
       "      <td>-0.020647</td>\n",
       "      <td>1.000000</td>\n",
       "      <td>0.100893</td>\n",
       "      <td>0.070193</td>\n",
       "      <td>0.022656</td>\n",
       "      <td>-0.112135</td>\n",
       "      <td>0.155101</td>\n",
       "      <td>0.164803</td>\n",
       "      <td>-0.075162</td>\n",
       "      <td>0.107589</td>\n",
       "    </tr>\n",
       "    <tr>\n",
       "      <th>Cholesterol</th>\n",
       "      <td>-0.095282</td>\n",
       "      <td>-0.200092</td>\n",
       "      <td>0.067880</td>\n",
       "      <td>0.100893</td>\n",
       "      <td>1.000000</td>\n",
       "      <td>-0.260974</td>\n",
       "      <td>-0.196544</td>\n",
       "      <td>0.235792</td>\n",
       "      <td>-0.034166</td>\n",
       "      <td>0.050148</td>\n",
       "      <td>0.111471</td>\n",
       "      <td>-0.232741</td>\n",
       "    </tr>\n",
       "    <tr>\n",
       "      <th>FastingBS</th>\n",
       "      <td>0.198039</td>\n",
       "      <td>0.120076</td>\n",
       "      <td>-0.073151</td>\n",
       "      <td>0.070193</td>\n",
       "      <td>-0.260974</td>\n",
       "      <td>1.000000</td>\n",
       "      <td>0.087050</td>\n",
       "      <td>-0.131438</td>\n",
       "      <td>0.060451</td>\n",
       "      <td>0.052698</td>\n",
       "      <td>-0.175774</td>\n",
       "      <td>0.267291</td>\n",
       "    </tr>\n",
       "    <tr>\n",
       "      <th>RestingECG</th>\n",
       "      <td>-0.007484</td>\n",
       "      <td>0.071552</td>\n",
       "      <td>-0.072537</td>\n",
       "      <td>0.022656</td>\n",
       "      <td>-0.196544</td>\n",
       "      <td>0.087050</td>\n",
       "      <td>1.000000</td>\n",
       "      <td>-0.179276</td>\n",
       "      <td>0.077500</td>\n",
       "      <td>-0.020438</td>\n",
       "      <td>-0.006778</td>\n",
       "      <td>0.057384</td>\n",
       "    </tr>\n",
       "    <tr>\n",
       "      <th>MaxHR</th>\n",
       "      <td>-0.382045</td>\n",
       "      <td>-0.189186</td>\n",
       "      <td>0.289123</td>\n",
       "      <td>-0.112135</td>\n",
       "      <td>0.235792</td>\n",
       "      <td>-0.131438</td>\n",
       "      <td>-0.179276</td>\n",
       "      <td>1.000000</td>\n",
       "      <td>-0.370425</td>\n",
       "      <td>-0.160691</td>\n",
       "      <td>0.343419</td>\n",
       "      <td>-0.400421</td>\n",
       "    </tr>\n",
       "    <tr>\n",
       "      <th>ExerciseAngina</th>\n",
       "      <td>0.215793</td>\n",
       "      <td>0.190664</td>\n",
       "      <td>-0.354727</td>\n",
       "      <td>0.155101</td>\n",
       "      <td>-0.034166</td>\n",
       "      <td>0.060451</td>\n",
       "      <td>0.077500</td>\n",
       "      <td>-0.370425</td>\n",
       "      <td>1.000000</td>\n",
       "      <td>0.408752</td>\n",
       "      <td>-0.428706</td>\n",
       "      <td>0.494282</td>\n",
       "    </tr>\n",
       "    <tr>\n",
       "      <th>Oldpeak</th>\n",
       "      <td>0.258612</td>\n",
       "      <td>0.105734</td>\n",
       "      <td>-0.177377</td>\n",
       "      <td>0.164803</td>\n",
       "      <td>0.050148</td>\n",
       "      <td>0.052698</td>\n",
       "      <td>-0.020438</td>\n",
       "      <td>-0.160691</td>\n",
       "      <td>0.408752</td>\n",
       "      <td>1.000000</td>\n",
       "      <td>-0.501921</td>\n",
       "      <td>0.403951</td>\n",
       "    </tr>\n",
       "    <tr>\n",
       "      <th>ST_Slope</th>\n",
       "      <td>-0.268264</td>\n",
       "      <td>-0.150693</td>\n",
       "      <td>0.213521</td>\n",
       "      <td>-0.075162</td>\n",
       "      <td>0.111471</td>\n",
       "      <td>-0.175774</td>\n",
       "      <td>-0.006778</td>\n",
       "      <td>0.343419</td>\n",
       "      <td>-0.428706</td>\n",
       "      <td>-0.501921</td>\n",
       "      <td>1.000000</td>\n",
       "      <td>-0.558771</td>\n",
       "    </tr>\n",
       "    <tr>\n",
       "      <th>HeartDisease</th>\n",
       "      <td>0.282039</td>\n",
       "      <td>0.305445</td>\n",
       "      <td>-0.386828</td>\n",
       "      <td>0.107589</td>\n",
       "      <td>-0.232741</td>\n",
       "      <td>0.267291</td>\n",
       "      <td>0.057384</td>\n",
       "      <td>-0.400421</td>\n",
       "      <td>0.494282</td>\n",
       "      <td>0.403951</td>\n",
       "      <td>-0.558771</td>\n",
       "      <td>1.000000</td>\n",
       "    </tr>\n",
       "  </tbody>\n",
       "</table>\n",
       "</div>"
      ],
      "text/plain": [
       "                     Age       Sex  ChestPainType  RestingBP  Cholesterol  \\\n",
       "Age             1.000000  0.055750      -0.077150   0.254399    -0.095282   \n",
       "Sex             0.055750  1.000000      -0.126559   0.005133    -0.200092   \n",
       "ChestPainType  -0.077150 -0.126559       1.000000  -0.020647     0.067880   \n",
       "RestingBP       0.254399  0.005133      -0.020647   1.000000     0.100893   \n",
       "Cholesterol    -0.095282 -0.200092       0.067880   0.100893     1.000000   \n",
       "FastingBS       0.198039  0.120076      -0.073151   0.070193    -0.260974   \n",
       "RestingECG     -0.007484  0.071552      -0.072537   0.022656    -0.196544   \n",
       "MaxHR          -0.382045 -0.189186       0.289123  -0.112135     0.235792   \n",
       "ExerciseAngina  0.215793  0.190664      -0.354727   0.155101    -0.034166   \n",
       "Oldpeak         0.258612  0.105734      -0.177377   0.164803     0.050148   \n",
       "ST_Slope       -0.268264 -0.150693       0.213521  -0.075162     0.111471   \n",
       "HeartDisease    0.282039  0.305445      -0.386828   0.107589    -0.232741   \n",
       "\n",
       "                FastingBS  RestingECG     MaxHR  ExerciseAngina   Oldpeak  \\\n",
       "Age              0.198039   -0.007484 -0.382045        0.215793  0.258612   \n",
       "Sex              0.120076    0.071552 -0.189186        0.190664  0.105734   \n",
       "ChestPainType   -0.073151   -0.072537  0.289123       -0.354727 -0.177377   \n",
       "RestingBP        0.070193    0.022656 -0.112135        0.155101  0.164803   \n",
       "Cholesterol     -0.260974   -0.196544  0.235792       -0.034166  0.050148   \n",
       "FastingBS        1.000000    0.087050 -0.131438        0.060451  0.052698   \n",
       "RestingECG       0.087050    1.000000 -0.179276        0.077500 -0.020438   \n",
       "MaxHR           -0.131438   -0.179276  1.000000       -0.370425 -0.160691   \n",
       "ExerciseAngina   0.060451    0.077500 -0.370425        1.000000  0.408752   \n",
       "Oldpeak          0.052698   -0.020438 -0.160691        0.408752  1.000000   \n",
       "ST_Slope        -0.175774   -0.006778  0.343419       -0.428706 -0.501921   \n",
       "HeartDisease     0.267291    0.057384 -0.400421        0.494282  0.403951   \n",
       "\n",
       "                ST_Slope  HeartDisease  \n",
       "Age            -0.268264      0.282039  \n",
       "Sex            -0.150693      0.305445  \n",
       "ChestPainType   0.213521     -0.386828  \n",
       "RestingBP      -0.075162      0.107589  \n",
       "Cholesterol     0.111471     -0.232741  \n",
       "FastingBS      -0.175774      0.267291  \n",
       "RestingECG     -0.006778      0.057384  \n",
       "MaxHR           0.343419     -0.400421  \n",
       "ExerciseAngina -0.428706      0.494282  \n",
       "Oldpeak        -0.501921      0.403951  \n",
       "ST_Slope        1.000000     -0.558771  \n",
       "HeartDisease   -0.558771      1.000000  "
      ]
     },
     "execution_count": 12,
     "metadata": {},
     "output_type": "execute_result"
    }
   ],
   "source": [
    "dataset.corr()"
   ]
  },
  {
   "cell_type": "code",
   "execution_count": 13,
   "id": "f2ff7e39",
   "metadata": {},
   "outputs": [
    {
     "name": "stdout",
     "output_type": "stream",
     "text": [
      "0    496\n",
      "2    203\n",
      "1    173\n",
      "3     46\n",
      "Name: ChestPainType, dtype: int64\n"
     ]
    },
    {
     "data": {
      "image/png": "[encoded data removed]",
      "text/plain": [
       "<Figure size 432x288 with 1 Axes>"
      ]
     },
     "metadata": {
      "needs_background": "light"
     },
     "output_type": "display_data"
    }
   ],
   "source": [
    "x = dataset['ChestPainType'].value_counts()\n",
    "print(x)\n",
    "seaborn.countplot(data = dataset, x = \"ChestPainType\")\n",
    "plt.show()"
   ]
  },
  {
   "cell_type": "code",
   "execution_count": 14,
   "id": "de42963e",
   "metadata": {},
   "outputs": [],
   "source": [
    "corr = dataset.corr()"
   ]
  },
  {
   "cell_type": "code",
   "execution_count": 15,
   "id": "67663954",
   "metadata": {},
   "outputs": [
    {
     "data": {
      "image/png": "[encoded data removed]",
      "text/plain": [
       "<Figure size 1152x576 with 2 Axes>"
      ]
     },
     "metadata": {
      "needs_background": "light"
     },
     "output_type": "display_data"
    }
   ],
   "source": [
    "plt.figure(figsize=(16,8))\n",
    "seaborn.heatmap(corr,annot=True)\n",
    "plt.show()"
   ]
  },
  {
   "cell_type": "code",
   "execution_count": 16,
   "id": "b7b154a9",
   "metadata": {},
   "outputs": [
    {
     "name": "stdout",
     "output_type": "stream",
     "text": [
      "0    704\n",
      "1    214\n",
      "Name: FastingBS, dtype: int64\n"
     ]
    },
    {
     "data": {
      "image/png": "[encoded data removed]",
      "text/plain": [
       "<Figure size 432x288 with 1 Axes>"
      ]
     },
     "metadata": {
      "needs_background": "light"
     },
     "output_type": "display_data"
    }
   ],
   "source": [
    "x = dataset['FastingBS'].value_counts()\n",
    "print(x)\n",
    "seaborn.countplot(data = dataset, x = \"FastingBS\")\n",
    "plt.show()"
   ]
  },
  {
   "cell_type": "code",
   "execution_count": 17,
   "id": "5f1b709b",
   "metadata": {},
   "outputs": [
    {
     "name": "stdout",
     "output_type": "stream",
     "text": [
      "1    508\n",
      "0    410\n",
      "Name: HeartDisease, dtype: int64\n"
     ]
    },
    {
     "data": {
      "image/png": "[encoded data removed]",
      "text/plain": [
       "<Figure size 432x288 with 1 Axes>"
      ]
     },
     "metadata": {
      "needs_background": "light"
     },
     "output_type": "display_data"
    }
   ],
   "source": [
    "x = dataset['HeartDisease'].value_counts()\n",
    "print(x)\n",
    "seaborn.countplot(data = dataset, x = \"HeartDisease\")\n",
    "plt.show()"
   ]
  },
  {
   "cell_type": "code",
   "execution_count": 18,
   "id": "f0c61cd5",
   "metadata": {},
   "outputs": [
    {
     "data": {
      "image/png": "[encoded data removed]",
      "text/plain": [
       "<Figure size 1008x1008 with 12 Axes>"
      ]
     },
     "metadata": {
      "needs_background": "light"
     },
     "output_type": "display_data"
    }
   ],
   "source": [
    "#distribution of data (histogram)\n",
    "dataset.hist(figsize=(14, 14))\n",
    "plt.show()"
   ]
  },
  {
   "cell_type": "code",
   "execution_count": null,
   "id": "be308393",
   "metadata": {},
   "outputs": [],
   "source": []
  },
  {
   "cell_type": "code",
   "execution_count": 19,
   "id": "52261a0e",
   "metadata": {},
   "outputs": [
    {
     "data": {
      "image/png": "[encoded data removed]",
      "text/plain": [
       "<Figure size 1080x576 with 1 Axes>"
      ]
     },
     "metadata": {
      "needs_background": "light"
     },
     "output_type": "display_data"
    }
   ],
   "source": [
    "seaborn.set_context('notebook',font_scale = 1.5)\n",
    "dataset.drop('HeartDisease', axis=1).corrwith(dataset.HeartDisease).plot(kind='bar', grid=True, figsize=(15,8),title=\"Correlation with the target feature\")\n",
    "plt.tight_layout()"
   ]
  },
  {
   "cell_type": "code",
   "execution_count": 20,
   "id": "8cd481a9",
   "metadata": {},
   "outputs": [
    {
     "name": "stdout",
     "output_type": "stream",
     "text": [
      "(918, 7)\n"
     ]
    },
    {
     "data": {
      "text/html": [
       "<div>\n",
       "<style scoped>\n",
       "    .dataframe tbody tr th:only-of-type {\n",
       "        vertical-align: middle;\n",
       "    }\n",
       "\n",
       "    .dataframe tbody tr th {\n",
       "        vertical-align: top;\n",
       "    }\n",
       "\n",
       "    .dataframe thead th {\n",
       "        text-align: right;\n",
       "    }\n",
       "</style>\n",
       "<table border=\"1\" class=\"dataframe\">\n",
       "  <thead>\n",
       "    <tr style=\"text-align: right;\">\n",
       "      <th></th>\n",
       "      <th>Age</th>\n",
       "      <th>Sex</th>\n",
       "      <th>RestingBP</th>\n",
       "      <th>FastingBS</th>\n",
       "      <th>RestingECG</th>\n",
       "      <th>ExerciseAngina</th>\n",
       "      <th>Oldpeak</th>\n",
       "    </tr>\n",
       "  </thead>\n",
       "  <tbody>\n",
       "    <tr>\n",
       "      <th>0</th>\n",
       "      <td>40</td>\n",
       "      <td>1</td>\n",
       "      <td>140</td>\n",
       "      <td>0</td>\n",
       "      <td>1</td>\n",
       "      <td>0</td>\n",
       "      <td>0.0</td>\n",
       "    </tr>\n",
       "    <tr>\n",
       "      <th>1</th>\n",
       "      <td>49</td>\n",
       "      <td>0</td>\n",
       "      <td>160</td>\n",
       "      <td>0</td>\n",
       "      <td>1</td>\n",
       "      <td>0</td>\n",
       "      <td>1.0</td>\n",
       "    </tr>\n",
       "    <tr>\n",
       "      <th>2</th>\n",
       "      <td>37</td>\n",
       "      <td>1</td>\n",
       "      <td>130</td>\n",
       "      <td>0</td>\n",
       "      <td>2</td>\n",
       "      <td>0</td>\n",
       "      <td>0.0</td>\n",
       "    </tr>\n",
       "    <tr>\n",
       "      <th>3</th>\n",
       "      <td>48</td>\n",
       "      <td>0</td>\n",
       "      <td>138</td>\n",
       "      <td>0</td>\n",
       "      <td>1</td>\n",
       "      <td>1</td>\n",
       "      <td>1.5</td>\n",
       "    </tr>\n",
       "    <tr>\n",
       "      <th>4</th>\n",
       "      <td>54</td>\n",
       "      <td>1</td>\n",
       "      <td>150</td>\n",
       "      <td>0</td>\n",
       "      <td>1</td>\n",
       "      <td>0</td>\n",
       "      <td>0.0</td>\n",
       "    </tr>\n",
       "    <tr>\n",
       "      <th>...</th>\n",
       "      <td>...</td>\n",
       "      <td>...</td>\n",
       "      <td>...</td>\n",
       "      <td>...</td>\n",
       "      <td>...</td>\n",
       "      <td>...</td>\n",
       "      <td>...</td>\n",
       "    </tr>\n",
       "    <tr>\n",
       "      <th>913</th>\n",
       "      <td>45</td>\n",
       "      <td>1</td>\n",
       "      <td>110</td>\n",
       "      <td>0</td>\n",
       "      <td>1</td>\n",
       "      <td>0</td>\n",
       "      <td>1.2</td>\n",
       "    </tr>\n",
       "    <tr>\n",
       "      <th>914</th>\n",
       "      <td>68</td>\n",
       "      <td>1</td>\n",
       "      <td>144</td>\n",
       "      <td>1</td>\n",
       "      <td>1</td>\n",
       "      <td>0</td>\n",
       "      <td>3.4</td>\n",
       "    </tr>\n",
       "    <tr>\n",
       "      <th>915</th>\n",
       "      <td>57</td>\n",
       "      <td>1</td>\n",
       "      <td>130</td>\n",
       "      <td>0</td>\n",
       "      <td>1</td>\n",
       "      <td>1</td>\n",
       "      <td>1.2</td>\n",
       "    </tr>\n",
       "    <tr>\n",
       "      <th>916</th>\n",
       "      <td>57</td>\n",
       "      <td>0</td>\n",
       "      <td>130</td>\n",
       "      <td>0</td>\n",
       "      <td>0</td>\n",
       "      <td>0</td>\n",
       "      <td>0.0</td>\n",
       "    </tr>\n",
       "    <tr>\n",
       "      <th>917</th>\n",
       "      <td>38</td>\n",
       "      <td>1</td>\n",
       "      <td>138</td>\n",
       "      <td>0</td>\n",
       "      <td>1</td>\n",
       "      <td>0</td>\n",
       "      <td>0.0</td>\n",
       "    </tr>\n",
       "  </tbody>\n",
       "</table>\n",
       "<p>918 rows × 7 columns</p>\n",
       "</div>"
      ],
      "text/plain": [
       "     Age  Sex  RestingBP  FastingBS  RestingECG  ExerciseAngina  Oldpeak\n",
       "0     40    1        140          0           1               0      0.0\n",
       "1     49    0        160          0           1               0      1.0\n",
       "2     37    1        130          0           2               0      0.0\n",
       "3     48    0        138          0           1               1      1.5\n",
       "4     54    1        150          0           1               0      0.0\n",
       "..   ...  ...        ...        ...         ...             ...      ...\n",
       "913   45    1        110          0           1               0      1.2\n",
       "914   68    1        144          1           1               0      3.4\n",
       "915   57    1        130          0           1               1      1.2\n",
       "916   57    0        130          0           0               0      0.0\n",
       "917   38    1        138          0           1               0      0.0\n",
       "\n",
       "[918 rows x 7 columns]"
      ]
     },
     "execution_count": 20,
     "metadata": {},
     "output_type": "execute_result"
    }
   ],
   "source": [
    "#selecting new coloums and dataframe\n",
    "myList =['Age','Sex','RestingBP', 'FastingBS','RestingECG', 'ExerciseAngina','Oldpeak']\n",
    "\n",
    "\n",
    "#create a new dataframe with this list\n",
    "New_dataset = dataset[myList]\n",
    "print(New_dataset.shape)\n",
    "New_dataset\n"
   ]
  },
  {
   "cell_type": "code",
   "execution_count": 21,
   "id": "45835aa1",
   "metadata": {},
   "outputs": [],
   "source": [
    "##Principle Component Analysis (PCA)"
   ]
  },
  {
   "cell_type": "code",
   "execution_count": 22,
   "id": "f52ec57f",
   "metadata": {},
   "outputs": [],
   "source": [
    "from sklearn.preprocessing import StandardScaler\n",
    "#from sklearn.preprocessing import MinMaxScaler\n",
    "\n",
    "minScaler=StandardScaler()\n",
    "minScaler.fit(dataset)\n",
    "scaled_data=minScaler.transform(dataset)"
   ]
  },
  {
   "cell_type": "code",
   "execution_count": 23,
   "id": "0b35562f",
   "metadata": {},
   "outputs": [
    {
     "data": {
      "text/plain": [
       "array([[-1.4331398 ,  0.51595242,  0.22903206, ..., -0.83243239,\n",
       "         1.05211381, -1.11311472],\n",
       "       [-0.47848359, -1.93816322,  1.27505906, ...,  0.10566353,\n",
       "        -0.59607813,  0.89837999],\n",
       "       [-1.75135854,  0.51595242,  0.22903206, ..., -0.83243239,\n",
       "         1.05211381, -1.11311472],\n",
       "       ...,\n",
       "       [ 0.37009972,  0.51595242, -0.81699495, ...,  0.29328271,\n",
       "        -0.59607813,  0.89837999],\n",
       "       [ 0.37009972, -1.93816322,  0.22903206, ..., -0.83243239,\n",
       "        -0.59607813,  0.89837999],\n",
       "       [-1.64528563,  0.51595242,  1.27505906, ..., -0.83243239,\n",
       "         1.05211381, -1.11311472]])"
      ]
     },
     "execution_count": 23,
     "metadata": {},
     "output_type": "execute_result"
    }
   ],
   "source": [
    "scaled_data"
   ]
  },
  {
   "cell_type": "code",
   "execution_count": 24,
   "id": "ed9aa31e",
   "metadata": {},
   "outputs": [
    {
     "data": {
      "text/html": [
       "<style>#sk-container-id-1 {color: black;background-color: white;}#sk-container-id-1 pre{padding: 0;}#sk-container-id-1 div.sk-toggleable {background-color: white;}#sk-container-id-1 label.sk-toggleable__label {cursor: pointer;display: block;width: 100%;margin-bottom: 0;padding: 0.3em;box-sizing: border-box;text-align: center;}#sk-container-id-1 label.sk-toggleable__label-arrow:before {content: \"▸\";float: left;margin-right: 0.25em;color: #696969;}#sk-container-id-1 label.sk-toggleable__label-arrow:hover:before {color: black;}#sk-container-id-1 div.sk-estimator:hover label.sk-toggleable__label-arrow:before {color: black;}#sk-container-id-1 div.sk-toggleable__content {max-height: 0;max-width: 0;overflow: hidden;text-align: left;background-color: #f0f8ff;}#sk-container-id-1 div.sk-toggleable__content pre {margin: 0.2em;color: black;border-radius: 0.25em;background-color: #f0f8ff;}#sk-container-id-1 input.sk-toggleable__control:checked~div.sk-toggleable__content {max-height: 200px;max-width: 100%;overflow: auto;}#sk-container-id-1 input.sk-toggleable__control:checked~label.sk-toggleable__label-arrow:before {content: \"▾\";}#sk-container-id-1 div.sk-estimator input.sk-toggleable__control:checked~label.sk-toggleable__label {background-color: #d4ebff;}#sk-container-id-1 div.sk-label input.sk-toggleable__control:checked~label.sk-toggleable__label {background-color: #d4ebff;}#sk-container-id-1 input.sk-hidden--visually {border: 0;clip: rect(1px 1px 1px 1px);clip: rect(1px, 1px, 1px, 1px);height: 1px;margin: -1px;overflow: hidden;padding: 0;position: absolute;width: 1px;}#sk-container-id-1 div.sk-estimator {font-family: monospace;background-color: #f0f8ff;border: 1px dotted black;border-radius: 0.25em;box-sizing: border-box;margin-bottom: 0.5em;}#sk-container-id-1 div.sk-estimator:hover {background-color: #d4ebff;}#sk-container-id-1 div.sk-parallel-item::after {content: \"\";width: 100%;border-bottom: 1px solid gray;flex-grow: 1;}#sk-container-id-1 div.sk-label:hover label.sk-toggleable__label {background-color: #d4ebff;}#sk-container-id-1 div.sk-serial::before {content: \"\";position: absolute;border-left: 1px solid gray;box-sizing: border-box;top: 0;bottom: 0;left: 50%;z-index: 0;}#sk-container-id-1 div.sk-serial {display: flex;flex-direction: column;align-items: center;background-color: white;padding-right: 0.2em;padding-left: 0.2em;position: relative;}#sk-container-id-1 div.sk-item {position: relative;z-index: 1;}#sk-container-id-1 div.sk-parallel {display: flex;align-items: stretch;justify-content: center;background-color: white;position: relative;}#sk-container-id-1 div.sk-item::before, #sk-container-id-1 div.sk-parallel-item::before {content: \"\";position: absolute;border-left: 1px solid gray;box-sizing: border-box;top: 0;bottom: 0;left: 50%;z-index: -1;}#sk-container-id-1 div.sk-parallel-item {display: flex;flex-direction: column;z-index: 1;position: relative;background-color: white;}#sk-container-id-1 div.sk-parallel-item:first-child::after {align-self: flex-end;width: 50%;}#sk-container-id-1 div.sk-parallel-item:last-child::after {align-self: flex-start;width: 50%;}#sk-container-id-1 div.sk-parallel-item:only-child::after {width: 0;}#sk-container-id-1 div.sk-dashed-wrapped {border: 1px dashed gray;margin: 0 0.4em 0.5em 0.4em;box-sizing: border-box;padding-bottom: 0.4em;background-color: white;}#sk-container-id-1 div.sk-label label {font-family: monospace;font-weight: bold;display: inline-block;line-height: 1.2em;}#sk-container-id-1 div.sk-label-container {text-align: center;}#sk-container-id-1 div.sk-container {/* jupyter's `normalize.less` sets `[hidden] { display: none; }` but bootstrap.min.css set `[hidden] { display: none !important; }` so we also need the `!important` here to be able to override the default hidden behavior on the sphinx rendered scikit-learn.org. See: https://github.com/scikit-learn/scikit-learn/issues/21755 */display: inline-block !important;position: relative;}#sk-container-id-1 div.sk-text-repr-fallback {display: none;}</style><div id=\"sk-container-id-1\" class=\"sk-top-container\"><div class=\"sk-text-repr-fallback\"><pre>PCA(n_components=2)</pre><b>In a Jupyter environment, please rerun this cell to show the HTML representation or trust the notebook. <br />On GitHub, the HTML representation is unable to render, please try loading this page with nbviewer.org.</b></div><div class=\"sk-container\" hidden><div class=\"sk-item\"><div class=\"sk-estimator sk-toggleable\"><input class=\"sk-toggleable__control sk-hidden--visually\" id=\"sk-estimator-id-1\" type=\"checkbox\" checked><label for=\"sk-estimator-id-1\" class=\"sk-toggleable__label sk-toggleable__label-arrow\">PCA</label><div class=\"sk-toggleable__content\"><pre>PCA(n_components=2)</pre></div></div></div></div></div>"
      ],
      "text/plain": [
       "PCA(n_components=2)"
      ]
     },
     "execution_count": 24,
     "metadata": {},
     "output_type": "execute_result"
    }
   ],
   "source": [
    "from sklearn.decomposition import PCA\n",
    "pca=PCA(n_components=2)\n",
    "pca.fit(scaled_data)"
   ]
  },
  {
   "cell_type": "code",
   "execution_count": 25,
   "id": "321cc991",
   "metadata": {},
   "outputs": [],
   "source": [
    "x_pca=pca.transform(scaled_data)"
   ]
  },
  {
   "cell_type": "code",
   "execution_count": 26,
   "id": "ed94326c",
   "metadata": {},
   "outputs": [
    {
     "data": {
      "text/plain": [
       "(918, 12)"
      ]
     },
     "execution_count": 26,
     "metadata": {},
     "output_type": "execute_result"
    }
   ],
   "source": [
    "scaled_data.shape"
   ]
  },
  {
   "cell_type": "code",
   "execution_count": 27,
   "id": "4babef54",
   "metadata": {},
   "outputs": [
    {
     "data": {
      "text/plain": [
       "(918, 2)"
      ]
     },
     "execution_count": 27,
     "metadata": {},
     "output_type": "execute_result"
    }
   ],
   "source": [
    "x_pca.shape"
   ]
  },
  {
   "cell_type": "code",
   "execution_count": 28,
   "id": "db8c6179",
   "metadata": {},
   "outputs": [
    {
     "data": {
      "text/plain": [
       "array([[-1.4331398 ,  0.51595242,  0.22903206, ..., -0.83243239,\n",
       "         1.05211381, -1.11311472],\n",
       "       [-0.47848359, -1.93816322,  1.27505906, ...,  0.10566353,\n",
       "        -0.59607813,  0.89837999],\n",
       "       [-1.75135854,  0.51595242,  0.22903206, ..., -0.83243239,\n",
       "         1.05211381, -1.11311472],\n",
       "       ...,\n",
       "       [ 0.37009972,  0.51595242, -0.81699495, ...,  0.29328271,\n",
       "        -0.59607813,  0.89837999],\n",
       "       [ 0.37009972, -1.93816322,  0.22903206, ..., -0.83243239,\n",
       "        -0.59607813,  0.89837999],\n",
       "       [-1.64528563,  0.51595242,  1.27505906, ..., -0.83243239,\n",
       "         1.05211381, -1.11311472]])"
      ]
     },
     "execution_count": 28,
     "metadata": {},
     "output_type": "execute_result"
    }
   ],
   "source": [
    "scaled_data"
   ]
  },
  {
   "cell_type": "code",
   "execution_count": 29,
   "id": "fbc87d61",
   "metadata": {},
   "outputs": [
    {
     "data": {
      "text/plain": [
       "Text(0, 0.5, 'Second principle component')"
      ]
     },
     "execution_count": 29,
     "metadata": {},
     "output_type": "execute_result"
    },
    {
     "data": {
      "image/png": "[encoded data removed]",
      "text/plain": [
       "<Figure size 576x432 with 1 Axes>"
      ]
     },
     "metadata": {
      "needs_background": "light"
     },
     "output_type": "display_data"
    }
   ],
   "source": [
    "plt.figure(figsize=(8,6))\n",
    "plt.scatter(x_pca[:,0],x_pca[:,1],c=dataset['HeartDisease'])\n",
    "plt.xlabel('First principle component')\n",
    "plt.ylabel('Second principle component')"
   ]
  },
  {
   "cell_type": "code",
   "execution_count": null,
   "id": "512e1e09",
   "metadata": {},
   "outputs": [],
   "source": []
  },
  {
   "cell_type": "code",
   "execution_count": 30,
   "id": "d3f630b5",
   "metadata": {},
   "outputs": [],
   "source": [
    "x = dataset.iloc[:,:-1]\n",
    "y = dataset.iloc[:,-1]"
   ]
  },
  {
   "cell_type": "code",
   "execution_count": 31,
   "id": "ca576296",
   "metadata": {},
   "outputs": [
    {
     "data": {
      "text/plain": [
       "1    508\n",
       "0    410\n",
       "Name: HeartDisease, dtype: int64"
      ]
     },
     "execution_count": 31,
     "metadata": {},
     "output_type": "execute_result"
    }
   ],
   "source": [
    "y.value_counts()"
   ]
  },
  {
   "cell_type": "code",
   "execution_count": 32,
   "id": "604420b1",
   "metadata": {},
   "outputs": [],
   "source": [
    "from imblearn.over_sampling import SMOTE\n",
    "oversample = SMOTE()\n",
    "x_sample, y_sample = oversample.fit_resample(x, y)"
   ]
  },
  {
   "cell_type": "code",
   "execution_count": 33,
   "id": "2333a46e",
   "metadata": {},
   "outputs": [
    {
     "name": "stdout",
     "output_type": "stream",
     "text": [
      "Original dataset shape Counter({1: 508, 0: 410})\n",
      "Resampled dataset shape Counter({0: 508, 1: 508})\n"
     ]
    }
   ],
   "source": [
    "from collections import Counter\n",
    "print('Original dataset shape {}'.format(Counter(y)))\n",
    "print('Resampled dataset shape {}'.format(Counter(y_sample)))"
   ]
  },
  {
   "cell_type": "code",
   "execution_count": 34,
   "id": "7aa5d569",
   "metadata": {},
   "outputs": [],
   "source": [
    "from sklearn.metrics import confusion_matrix, classification_report\n",
    "from sklearn.model_selection import train_test_split, cross_val_score"
   ]
  },
  {
   "cell_type": "code",
   "execution_count": 35,
   "id": "8b487b82",
   "metadata": {},
   "outputs": [],
   "source": [
    "xtrain, xtest, ytrain, ytest = train_test_split(x, y, test_size = 0.2, random_state = 2)"
   ]
  },
  {
   "cell_type": "code",
   "execution_count": 36,
   "id": "364179d9",
   "metadata": {},
   "outputs": [
    {
     "data": {
      "text/plain": [
       "(734, 11)"
      ]
     },
     "execution_count": 36,
     "metadata": {},
     "output_type": "execute_result"
    }
   ],
   "source": [
    "xtrain.shape"
   ]
  },
  {
   "cell_type": "code",
   "execution_count": 37,
   "id": "d2114658",
   "metadata": {},
   "outputs": [
    {
     "data": {
      "text/plain": [
       "(184, 11)"
      ]
     },
     "execution_count": 37,
     "metadata": {},
     "output_type": "execute_result"
    }
   ],
   "source": [
    "xtest.shape"
   ]
  },
  {
   "cell_type": "code",
   "execution_count": 38,
   "id": "7fc3eac8",
   "metadata": {},
   "outputs": [
    {
     "data": {
      "text/plain": [
       "(184,)"
      ]
     },
     "execution_count": 38,
     "metadata": {},
     "output_type": "execute_result"
    }
   ],
   "source": [
    "ytest.shape"
   ]
  },
  {
   "cell_type": "code",
   "execution_count": 39,
   "id": "e77bd122",
   "metadata": {},
   "outputs": [],
   "source": [
    "from sklearn.preprocessing import StandardScaler\n",
    "scaler = StandardScaler()\n",
    "xtrain = scaler.fit_transform(xtrain)\n",
    "xtest = scaler.transform(xtest)"
   ]
  },
  {
   "cell_type": "code",
   "execution_count": 40,
   "id": "602f12ce",
   "metadata": {},
   "outputs": [],
   "source": [
    "#classify function\n",
    "def classify(model):\n",
    "    model.fit(xtrain, ytrain)\n",
    "    print(\"The accuracy of this model is: \", model.score(xtest, ytest)*100)\n",
    "    predict = model.predict(xtest)\n",
    "    print(classification_report(ytest, predict))"
   ]
  },
  {
   "cell_type": "code",
   "execution_count": 41,
   "id": "0fbec68f",
   "metadata": {},
   "outputs": [],
   "source": [
    "#classify function\n",
    "def classify(model):\n",
    "    model.fit(xtrain, ytrain)\n",
    "    print(\"The accuracy of this model is: \", model.score(xtest, ytest)*100)\n",
    "    predict = model.predict(xtest)\n",
    "    print(classification_report(ytest, predict))"
   ]
  },
  {
   "cell_type": "code",
   "execution_count": 42,
   "id": "c756b712",
   "metadata": {},
   "outputs": [
    {
     "name": "stdout",
     "output_type": "stream",
     "text": [
      "The accuracy of this model is:  85.86956521739131\n",
      "              precision    recall  f1-score   support\n",
      "\n",
      "           0       0.86      0.84      0.85        89\n",
      "           1       0.86      0.87      0.86        95\n",
      "\n",
      "    accuracy                           0.86       184\n",
      "   macro avg       0.86      0.86      0.86       184\n",
      "weighted avg       0.86      0.86      0.86       184\n",
      "\n"
     ]
    }
   ],
   "source": [
    "from sklearn.ensemble import GradientBoostingClassifier\n",
    "clf = GradientBoostingClassifier()\n",
    "classify(clf)"
   ]
  },
  {
   "cell_type": "code",
   "execution_count": 43,
   "id": "477945ce",
   "metadata": {},
   "outputs": [
    {
     "name": "stdout",
     "output_type": "stream",
     "text": [
      "Gradient Boosting Classifier Confusion Matrix\n"
     ]
    },
    {
     "data": {
      "text/plain": [
       "<AxesSubplot:>"
      ]
     },
     "execution_count": 43,
     "metadata": {},
     "output_type": "execute_result"
    },
    {
     "data": {
      "image/png": "[encoded data removed]",
      "text/plain": [
       "<Figure size 432x288 with 2 Axes>"
      ]
     },
     "metadata": {
      "needs_background": "light"
     },
     "output_type": "display_data"
    }
   ],
   "source": [
    "print('Gradient Boosting Classifier Confusion Matrix')\n",
    "y_pred = clf.predict(xtest)\n",
    "\n",
    "cm = confusion_matrix(ytest, y_pred)\n",
    "seaborn.heatmap(cm,annot=True)"
   ]
  },
  {
   "cell_type": "code",
   "execution_count": 112,
   "id": "43d0a046",
   "metadata": {},
   "outputs": [
    {
     "name": "stdout",
     "output_type": "stream",
     "text": [
      "The accuracy of this model is:  83.69565217391305\n",
      "              precision    recall  f1-score   support\n",
      "\n",
      "           0       0.87      0.78      0.82        89\n",
      "           1       0.81      0.89      0.85        95\n",
      "\n",
      "    accuracy                           0.84       184\n",
      "   macro avg       0.84      0.84      0.84       184\n",
      "weighted avg       0.84      0.84      0.84       184\n",
      "\n"
     ]
    }
   ],
   "source": [
    "from sklearn.ensemble import RandomForestClassifier\n",
    "rfcl = RandomForestClassifier(n_estimators=1000,criterion='gini', max_features='log2', bootstrap=False)\n",
    "classify(rfcl)"
   ]
  },
  {
   "cell_type": "code",
   "execution_count": 113,
   "id": "474ef3ab",
   "metadata": {},
   "outputs": [
    {
     "name": "stdout",
     "output_type": "stream",
     "text": [
      "Random Forest Confusion Matrix\n"
     ]
    },
    {
     "data": {
      "text/plain": [
       "<AxesSubplot:>"
      ]
     },
     "execution_count": 113,
     "metadata": {},
     "output_type": "execute_result"
    },
    {
     "data": {
      "image/png": "[encoded data removed]",
      "text/plain": [
       "<Figure size 432x288 with 2 Axes>"
      ]
     },
     "metadata": {
      "needs_background": "light"
     },
     "output_type": "display_data"
    }
   ],
   "source": [
    "print('Random Forest Confusion Matrix')\n",
    "y_pred = rfcl.predict(xtest)\n",
    "\n",
    "cm = confusion_matrix(ytest, y_pred)\n",
    "seaborn.heatmap(cm,annot=True)"
   ]
  },
  {
   "cell_type": "code",
   "execution_count": 46,
   "id": "481f4736",
   "metadata": {},
   "outputs": [
    {
     "name": "stdout",
     "output_type": "stream",
     "text": [
      "The accuracy of this model is:  84.78260869565217\n",
      "              precision    recall  f1-score   support\n",
      "\n",
      "           0       0.88      0.80      0.84        89\n",
      "           1       0.83      0.89      0.86        95\n",
      "\n",
      "    accuracy                           0.85       184\n",
      "   macro avg       0.85      0.85      0.85       184\n",
      "weighted avg       0.85      0.85      0.85       184\n",
      "\n"
     ]
    }
   ],
   "source": [
    "from sklearn.ensemble import BaggingClassifier\n",
    "from sklearn.tree import DecisionTreeClassifier\n",
    "dt = DecisionTreeClassifier()\n",
    "bag_dt = BaggingClassifier(base_estimator=dt, n_estimators=100, bootstrap=True)\n",
    "classify(bag_dt)"
   ]
  },
  {
   "cell_type": "code",
   "execution_count": 47,
   "id": "a070ea49",
   "metadata": {},
   "outputs": [
    {
     "name": "stdout",
     "output_type": "stream",
     "text": [
      "Decision Tree Confusion Matrix\n"
     ]
    },
    {
     "data": {
      "text/plain": [
       "<AxesSubplot:>"
      ]
     },
     "execution_count": 47,
     "metadata": {},
     "output_type": "execute_result"
    },
    {
     "data": {
      "image/png": "[encoded data removed]",
      "text/plain": [
       "<Figure size 432x288 with 2 Axes>"
      ]
     },
     "metadata": {
      "needs_background": "light"
     },
     "output_type": "display_data"
    }
   ],
   "source": [
    "print('Decision Tree Confusion Matrix')\n",
    "y_pred = bag_dt.predict(xtest)\n",
    "\n",
    "cm = confusion_matrix(ytest, y_pred)\n",
    "seaborn.heatmap(cm, annot=True)"
   ]
  },
  {
   "cell_type": "code",
   "execution_count": 48,
   "id": "e772a5a3",
   "metadata": {},
   "outputs": [
    {
     "name": "stdout",
     "output_type": "stream",
     "text": [
      "The accuracy of this model is:  84.23913043478261\n",
      "              precision    recall  f1-score   support\n",
      "\n",
      "           0       0.86      0.81      0.83        89\n",
      "           1       0.83      0.87      0.85        95\n",
      "\n",
      "    accuracy                           0.84       184\n",
      "   macro avg       0.84      0.84      0.84       184\n",
      "weighted avg       0.84      0.84      0.84       184\n",
      "\n"
     ]
    }
   ],
   "source": [
    "from sklearn.linear_model import LogisticRegression\n",
    "lr = LogisticRegression(max_iter = 1000, penalty='none')\n",
    "lr.fit(xtrain, ytrain)\n",
    "classify(lr)"
   ]
  },
  {
   "cell_type": "code",
   "execution_count": 49,
   "id": "1eca86ff",
   "metadata": {},
   "outputs": [
    {
     "name": "stdout",
     "output_type": "stream",
     "text": [
      "Logistic Regression Confusion Matrix\n"
     ]
    },
    {
     "data": {
      "text/plain": [
       "<AxesSubplot:>"
      ]
     },
     "execution_count": 49,
     "metadata": {},
     "output_type": "execute_result"
    },
    {
     "data": {
      "image/png": "[encoded data removed]",
      "text/plain": [
       "<Figure size 432x288 with 2 Axes>"
      ]
     },
     "metadata": {
      "needs_background": "light"
     },
     "output_type": "display_data"
    }
   ],
   "source": [
    "print('Logistic Regression Confusion Matrix')\n",
    "y_pred = lr.predict(xtest)\n",
    "\n",
    "cm = confusion_matrix(ytest, y_pred)\n",
    "seaborn.heatmap(cm, annot=True)"
   ]
  },
  {
   "cell_type": "code",
   "execution_count": 50,
   "id": "a7a70a3e",
   "metadata": {},
   "outputs": [
    {
     "name": "stdout",
     "output_type": "stream",
     "text": [
      "The accuracy of this model is:  85.32608695652173\n",
      "              precision    recall  f1-score   support\n",
      "\n",
      "           0       0.87      0.82      0.84        89\n",
      "           1       0.84      0.88      0.86        95\n",
      "\n",
      "    accuracy                           0.85       184\n",
      "   macro avg       0.85      0.85      0.85       184\n",
      "weighted avg       0.85      0.85      0.85       184\n",
      "\n"
     ]
    }
   ],
   "source": [
    "from sklearn.naive_bayes import GaussianNB\n",
    "nb = GaussianNB()\n",
    "nb.fit(xtrain, ytrain)\n",
    "classify(nb)"
   ]
  },
  {
   "cell_type": "code",
   "execution_count": 51,
   "id": "3b9a7581",
   "metadata": {},
   "outputs": [
    {
     "name": "stdout",
     "output_type": "stream",
     "text": [
      "Naive Bayes Confusion Matrix\n"
     ]
    },
    {
     "data": {
      "text/plain": [
       "<AxesSubplot:>"
      ]
     },
     "execution_count": 51,
     "metadata": {},
     "output_type": "execute_result"
    },
    {
     "data": {
      "image/png": "[encoded data removed]",
      "text/plain": [
       "<Figure size 432x288 with 2 Axes>"
      ]
     },
     "metadata": {
      "needs_background": "light"
     },
     "output_type": "display_data"
    }
   ],
   "source": [
    "print('Naive Bayes Confusion Matrix')\n",
    "y_pred = nb.predict(xtest)\n",
    "\n",
    "cm = confusion_matrix(ytest, y_pred)\n",
    "seaborn.heatmap(cm, annot=True)"
   ]
  },
  {
   "cell_type": "code",
   "execution_count": 52,
   "id": "13aaf23e",
   "metadata": {},
   "outputs": [
    {
     "name": "stdout",
     "output_type": "stream",
     "text": [
      "The accuracy of this model is:  86.41304347826086\n",
      "              precision    recall  f1-score   support\n",
      "\n",
      "           0       0.86      0.87      0.86        89\n",
      "           1       0.87      0.86      0.87        95\n",
      "\n",
      "    accuracy                           0.86       184\n",
      "   macro avg       0.86      0.86      0.86       184\n",
      "weighted avg       0.86      0.86      0.86       184\n",
      "\n"
     ]
    }
   ],
   "source": [
    "from sklearn.ensemble import AdaBoostClassifier\n",
    "ada = AdaBoostClassifier()\n",
    "classify(ada)"
   ]
  },
  {
   "cell_type": "code",
   "execution_count": 53,
   "id": "41c68404",
   "metadata": {},
   "outputs": [
    {
     "name": "stdout",
     "output_type": "stream",
     "text": [
      "Adaboost Confusion Matrix\n"
     ]
    },
    {
     "data": {
      "text/plain": [
       "<AxesSubplot:>"
      ]
     },
     "execution_count": 53,
     "metadata": {},
     "output_type": "execute_result"
    },
    {
     "data": {
      "image/png": "[encoded data removed]",
      "text/plain": [
       "<Figure size 432x288 with 2 Axes>"
      ]
     },
     "metadata": {
      "needs_background": "light"
     },
     "output_type": "display_data"
    }
   ],
   "source": [
    "print('Adaboost Confusion Matrix')\n",
    "y_pred = ada.predict(xtest)\n",
    "\n",
    "cm = confusion_matrix(ytest, y_pred)\n",
    "seaborn.heatmap(cm, annot=True)"
   ]
  },
  {
   "cell_type": "code",
   "execution_count": 54,
   "id": "0e5a43bc",
   "metadata": {},
   "outputs": [
    {
     "name": "stdout",
     "output_type": "stream",
     "text": [
      "The accuracy of this model is:  84.23913043478261\n",
      "              precision    recall  f1-score   support\n",
      "\n",
      "           0       0.86      0.81      0.83        89\n",
      "           1       0.83      0.87      0.85        95\n",
      "\n",
      "    accuracy                           0.84       184\n",
      "   macro avg       0.84      0.84      0.84       184\n",
      "weighted avg       0.84      0.84      0.84       184\n",
      "\n"
     ]
    }
   ],
   "source": [
    "from xgboost import XGBClassifier\n",
    "xgb = XGBClassifier()\n",
    "classify(xgb)"
   ]
  },
  {
   "cell_type": "code",
   "execution_count": 55,
   "id": "9c0efdf1",
   "metadata": {},
   "outputs": [
    {
     "name": "stdout",
     "output_type": "stream",
     "text": [
      "XGB Boost Confusion Matrix\n"
     ]
    },
    {
     "data": {
      "text/plain": [
       "<AxesSubplot:>"
      ]
     },
     "execution_count": 55,
     "metadata": {},
     "output_type": "execute_result"
    },
    {
     "data": {
      "image/png": "[encoded data removed]",
      "text/plain": [
       "<Figure size 432x288 with 2 Axes>"
      ]
     },
     "metadata": {
      "needs_background": "light"
     },
     "output_type": "display_data"
    }
   ],
   "source": [
    "print('XGB Boost Confusion Matrix')\n",
    "y_pred = xgb.predict(xtest)\n",
    "\n",
    "cm = confusion_matrix(ytest, y_pred)\n",
    "seaborn.heatmap(cm, annot=True)"
   ]
  },
  {
   "cell_type": "code",
   "execution_count": 63,
   "id": "886a9f88",
   "metadata": {},
   "outputs": [
    {
     "name": "stdout",
     "output_type": "stream",
     "text": [
      "              precision    recall  f1-score   support\n",
      "\n",
      "           0       0.91      0.82      0.86        89\n",
      "           1       0.85      0.93      0.88        95\n",
      "\n",
      "    accuracy                           0.88       184\n",
      "   macro avg       0.88      0.87      0.87       184\n",
      "weighted avg       0.88      0.88      0.87       184\n",
      "\n"
     ]
    }
   ],
   "source": [
    "from lightgbm import LGBMClassifier\n",
    "lgbm = LGBMClassifier()\n",
    "lgbm.fit(xtrain, ytrain)\n",
    "predict = lgbm.predict(xtest)\n",
    "print(classification_report(ytest, predict))"
   ]
  },
  {
   "cell_type": "code",
   "execution_count": 82,
   "id": "62adf093",
   "metadata": {},
   "outputs": [],
   "source": [
    "#R-square Score\n",
    "#from sklearn.metrics import r2_score\n",
    " \n",
    "#r2_score(ytest, predict)"
   ]
  },
  {
   "cell_type": "code",
   "execution_count": 83,
   "id": "f23a880b",
   "metadata": {},
   "outputs": [
    {
     "name": "stdout",
     "output_type": "stream",
     "text": [
      "LGBM Confusion Matrix\n"
     ]
    },
    {
     "data": {
      "text/plain": [
       "<AxesSubplot:>"
      ]
     },
     "execution_count": 83,
     "metadata": {},
     "output_type": "execute_result"
    },
    {
     "data": {
      "image/png": "[encoded data removed]",
      "text/plain": [
       "<Figure size 432x288 with 2 Axes>"
      ]
     },
     "metadata": {
      "needs_background": "light"
     },
     "output_type": "display_data"
    }
   ],
   "source": [
    "print('LGBM Confusion Matrix')\n",
    "y_pred = lgbm.predict(xtest)\n",
    "\n",
    "cm = confusion_matrix(ytest, y_pred)\n",
    "seaborn.heatmap(cm, annot=True)"
   ]
  },
  {
   "cell_type": "code",
   "execution_count": 57,
   "id": "5f860c66",
   "metadata": {},
   "outputs": [
    {
     "data": {
      "image/png": "[encoded data removed]",
      "text/plain": [
       "<Figure size 432x288 with 1 Axes>"
      ]
     },
     "metadata": {
      "needs_background": "light"
     },
     "output_type": "display_data"
    }
   ],
   "source": [
    "from sklearn.metrics import roc_auc_score, roc_curve, auc\n",
    "#random forest\n",
    "y_preds = rfcl.predict(xtest).ravel()\n",
    "\n",
    "rfcl_fpr, rfcl_tpr, thresholds = roc_curve(ytest, y_preds)\n",
    "plt.figure(1)\n",
    "plt.plot([0, 1], [0, 1], 'y--')\n",
    "plt.plot(rfcl_fpr, rfcl_tpr, marker='.')\n",
    "plt.xlabel('False positive rate')\n",
    "plt.ylabel('True positive rate')\n",
    "plt.title('Receiver Operating Charcateristic - ROC curve for RF')\n",
    "plt.show()\n"
   ]
  },
  {
   "cell_type": "code",
   "execution_count": 58,
   "id": "ec1b4549",
   "metadata": {},
   "outputs": [
    {
     "data": {
      "image/png": "[encoded data removed]",
      "text/plain": [
       "<Figure size 432x288 with 1 Axes>"
      ]
     },
     "metadata": {
      "needs_background": "light"
     },
     "output_type": "display_data"
    }
   ],
   "source": [
    "y_preds = bag_dt.predict(xtest).ravel()\n",
    "\n",
    "dt_fpr, dt_tpr, thresholds = roc_curve(ytest, y_preds)\n",
    "plt.figure(1)\n",
    "plt.plot([0, 1], [0, 1], 'y--')\n",
    "plt.plot(dt_fpr, dt_tpr, marker='.')\n",
    "plt.xlabel('False positive rate')\n",
    "plt.ylabel('True positive rate')\n",
    "plt.title('Receiver Operating Charcateristic - ROC curve for DT')\n",
    "plt.show()"
   ]
  },
  {
   "cell_type": "code",
   "execution_count": 59,
   "id": "3b9c8ba9",
   "metadata": {},
   "outputs": [
    {
     "data": {
      "image/png": "[encoded data removed]",
      "text/plain": [
       "<Figure size 432x288 with 1 Axes>"
      ]
     },
     "metadata": {
      "needs_background": "light"
     },
     "output_type": "display_data"
    }
   ],
   "source": [
    "y_preds = lgbm.predict(xtest).ravel()\n",
    "\n",
    "lgbm_fpr, lgbm_tpr, thresholds = roc_curve(ytest, y_preds)\n",
    "plt.figure(1)\n",
    "plt.plot([0, 1], [0, 1], 'y--')\n",
    "plt.plot(lgbm_fpr, lgbm_tpr, marker='.')\n",
    "plt.xlabel('False positive rate')\n",
    "plt.ylabel('True positive rate')\n",
    "plt.title('Receiver Operating Charcateristic - ROC curve for LGBM')\n",
    "plt.show()"
   ]
  },
  {
   "cell_type": "code",
   "execution_count": null,
   "id": "7d438e55",
   "metadata": {},
   "outputs": [],
   "source": []
  },
  {
   "cell_type": "code",
   "execution_count": null,
   "id": "8b4c7405",
   "metadata": {},
   "outputs": [],
   "source": []
  },
  {
   "cell_type": "code",
   "execution_count": 101,
   "id": "040fdf9b",
   "metadata": {},
   "outputs": [
    {
     "data": {
      "image/png": "[encoded data removed]",
      "text/plain": [
       "<Figure size 800x500 with 1 Axes>"
      ]
     },
     "metadata": {
      "needs_background": "light"
     },
     "output_type": "display_data"
    }
   ],
   "source": [
    "#random forest\n",
    "y_pred_rfcl = rfcl.predict(xtest).ravel()\n",
    "rfcl_fpr, rfcl_tpr, threshold = roc_curve(ytest, y_pred_rfcl)\n",
    "auc_rfcl = auc(rfcl_fpr, rfcl_tpr)\n",
    "#decision tree\n",
    "y_pred_dt = bag_dt.predict(xtest).ravel()\n",
    "dt_fpr, dt_tpr, threshold = roc_curve(ytest, y_pred_dt)\n",
    "auc_dt = auc(dt_fpr, dt_tpr)\n",
    "#lightgbm\n",
    "y_pred_lgbm = lgbm.predict(xtest).ravel()\n",
    "lgbm_fpr, lgbm_tpr, threshold = roc_curve(ytest, y_pred_lgbm)\n",
    "auc_lgbm = auc(lgbm_fpr, lgbm_tpr)\n",
    "#adaboost\n",
    "y_pred_ada = ada.predict(xtest).ravel()\n",
    "ada_fpr, ada_tpr, threshold = roc_curve(ytest, y_pred_ada)\n",
    "auc_ada = auc(ada_fpr, ada_tpr)\n",
    "#xgboost\n",
    "y_pred_xgb = xgb.predict(xtest).ravel()\n",
    "xgb_fpr, xgb_tpr, threshold = roc_curve(ytest, y_pred_xgb)\n",
    "auc_xgb = auc(xgb_fpr, xgb_tpr)\n",
    "#gradient boosting\n",
    "y_pred_clf = clf.predict(xtest).ravel()\n",
    "clf_fpr, clf_tpr, threshold = roc_curve(ytest, y_pred_clf)\n",
    "auc_clf = auc(clf_fpr, clf_tpr)\n",
    "\n",
    "plt.figure(figsize=(8, 5), dpi=100)\n",
    "plt.plot(rfcl_fpr, rfcl_tpr, marker='.', label='RF (auc = %0.3f)' % auc_rfcl)\n",
    "plt.plot(dt_fpr, dt_tpr, marker='.', label='DT (auc = %0.3f)' % auc_dt)\n",
    "plt.plot(lgbm_fpr, lgbm_tpr, marker='.', label='LightGBM (auc = %0.3f)' % auc_lgbm)\n",
    "plt.plot(clf_fpr, clf_tpr, marker='.', label='Gradient Boosting (auc = %0.3f)' % auc_clf)\n",
    "plt.plot(ada_fpr, ada_tpr, marker='.', label='AdaBoost (auc = %0.3f)' % auc_ada)\n",
    "plt.plot(xgb_fpr, xgb_tpr, marker='.', label='XGBoost (auc = %0.3f)' % auc_xgb)\n",
    "\n",
    "plt.xlabel('False Positive Rate -->')\n",
    "plt.ylabel('True Positive Rate -->')\n",
    "\n",
    "plt.legend()\n",
    "\n",
    "plt.show()"
   ]
  },
  {
   "cell_type": "code",
   "execution_count": null,
   "id": "943d3bac",
   "metadata": {},
   "outputs": [],
   "source": []
  },
  {
   "cell_type": "code",
   "execution_count": 102,
   "id": "fab2e485",
   "metadata": {},
   "outputs": [],
   "source": [
    "import tensorflow as tf\n",
    "\n",
    "ann = tf.keras.models.Sequential()\n",
    "ann.add(tf.keras.layers.Dense(units=12, activation='relu', input_shape=xtrain[0].shape))\n",
    "\n",
    "ann.add(tf.keras.layers.Dense(units=8, activation='relu'))\n",
    "ann.add(tf.keras.layers.Dense(units=1, activation='sigmoid'))"
   ]
  },
  {
   "cell_type": "code",
   "execution_count": 103,
   "id": "06b1e5b5",
   "metadata": {},
   "outputs": [],
   "source": [
    "ann.compile(optimizer = 'adam', loss = 'binary_crossentropy', metrics = ['accuracy'])"
   ]
  },
  {
   "cell_type": "code",
   "execution_count": 104,
   "id": "081383cc",
   "metadata": {},
   "outputs": [
    {
     "name": "stdout",
     "output_type": "stream",
     "text": [
      "Model: \"sequential\"\n",
      "_________________________________________________________________\n",
      " Layer (type)                Output Shape              Param #   \n",
      "=================================================================\n",
      " dense (Dense)               (None, 12)                144       \n",
      "                                                                 \n",
      " dense_1 (Dense)             (None, 8)                 104       \n",
      "                                                                 \n",
      " dense_2 (Dense)             (None, 1)                 9         \n",
      "                                                                 \n",
      "=================================================================\n",
      "Total params: 257\n",
      "Trainable params: 257\n",
      "Non-trainable params: 0\n",
      "_________________________________________________________________\n"
     ]
    }
   ],
   "source": [
    "ann.summary()"
   ]
  },
  {
   "cell_type": "code",
   "execution_count": 109,
   "id": "698e2a22",
   "metadata": {},
   "outputs": [
    {
     "name": "stdout",
     "output_type": "stream",
     "text": [
      "Epoch 1/500\n",
      "23/23 [==============================] - 0s 3ms/step - loss: 0.1669 - accuracy: 0.9346\n",
      "Epoch 2/500\n",
      "23/23 [==============================] - 0s 3ms/step - loss: 0.1656 - accuracy: 0.9360\n",
      "Epoch 3/500\n",
      "23/23 [==============================] - 0s 2ms/step - loss: 0.1657 - accuracy: 0.9373\n",
      "Epoch 4/500\n",
      "23/23 [==============================] - 0s 3ms/step - loss: 0.1653 - accuracy: 0.9360\n",
      "Epoch 5/500\n",
      "23/23 [==============================] - 0s 3ms/step - loss: 0.1646 - accuracy: 0.9360\n",
      "Epoch 6/500\n",
      "23/23 [==============================] - 0s 3ms/step - loss: 0.1643 - accuracy: 0.9401\n",
      "Epoch 7/500\n",
      "23/23 [==============================] - 0s 2ms/step - loss: 0.1643 - accuracy: 0.9387\n",
      "Epoch 8/500\n",
      "23/23 [==============================] - 0s 3ms/step - loss: 0.1637 - accuracy: 0.9360\n",
      "Epoch 9/500\n",
      "23/23 [==============================] - 0s 3ms/step - loss: 0.1631 - accuracy: 0.9387\n",
      "Epoch 10/500\n",
      "23/23 [==============================] - 0s 3ms/step - loss: 0.1633 - accuracy: 0.9401\n",
      "Epoch 11/500\n",
      "23/23 [==============================] - 0s 3ms/step - loss: 0.1635 - accuracy: 0.9387\n",
      "Epoch 12/500\n",
      "23/23 [==============================] - 0s 3ms/step - loss: 0.1630 - accuracy: 0.9373\n",
      "Epoch 13/500\n",
      "23/23 [==============================] - 0s 2ms/step - loss: 0.1622 - accuracy: 0.9387\n",
      "Epoch 14/500\n",
      "23/23 [==============================] - 0s 3ms/step - loss: 0.1618 - accuracy: 0.9373\n",
      "Epoch 15/500\n",
      "23/23 [==============================] - 0s 3ms/step - loss: 0.1622 - accuracy: 0.9373\n",
      "Epoch 16/500\n",
      "23/23 [==============================] - 0s 3ms/step - loss: 0.1613 - accuracy: 0.9401\n",
      "Epoch 17/500\n",
      "23/23 [==============================] - 0s 3ms/step - loss: 0.1612 - accuracy: 0.9414\n",
      "Epoch 18/500\n",
      "23/23 [==============================] - 0s 2ms/step - loss: 0.1616 - accuracy: 0.9387\n",
      "Epoch 19/500\n",
      "23/23 [==============================] - 0s 3ms/step - loss: 0.1603 - accuracy: 0.9387\n",
      "Epoch 20/500\n",
      "23/23 [==============================] - 0s 4ms/step - loss: 0.1602 - accuracy: 0.9401\n",
      "Epoch 21/500\n",
      "23/23 [==============================] - 0s 4ms/step - loss: 0.1613 - accuracy: 0.9401\n",
      "Epoch 22/500\n",
      "23/23 [==============================] - 0s 3ms/step - loss: 0.1600 - accuracy: 0.9401\n",
      "Epoch 23/500\n",
      "23/23 [==============================] - 0s 3ms/step - loss: 0.1601 - accuracy: 0.9387\n",
      "Epoch 24/500\n",
      "23/23 [==============================] - 0s 3ms/step - loss: 0.1603 - accuracy: 0.9387\n",
      "Epoch 25/500\n",
      "23/23 [==============================] - 0s 3ms/step - loss: 0.1588 - accuracy: 0.9428\n",
      "Epoch 26/500\n",
      "23/23 [==============================] - 0s 4ms/step - loss: 0.1589 - accuracy: 0.9401\n",
      "Epoch 27/500\n",
      "23/23 [==============================] - 0s 3ms/step - loss: 0.1582 - accuracy: 0.9401\n",
      "Epoch 28/500\n",
      "23/23 [==============================] - 0s 4ms/step - loss: 0.1584 - accuracy: 0.9401\n",
      "Epoch 29/500\n",
      "23/23 [==============================] - 0s 3ms/step - loss: 0.1582 - accuracy: 0.9401\n",
      "Epoch 30/500\n",
      "23/23 [==============================] - 0s 3ms/step - loss: 0.1579 - accuracy: 0.9387\n",
      "Epoch 31/500\n",
      "23/23 [==============================] - 0s 4ms/step - loss: 0.1580 - accuracy: 0.9401\n",
      "Epoch 32/500\n",
      "23/23 [==============================] - 0s 3ms/step - loss: 0.1582 - accuracy: 0.9387\n",
      "Epoch 33/500\n",
      "23/23 [==============================] - 0s 3ms/step - loss: 0.1580 - accuracy: 0.9441\n",
      "Epoch 34/500\n",
      "23/23 [==============================] - 0s 4ms/step - loss: 0.1587 - accuracy: 0.9414\n",
      "Epoch 35/500\n",
      "23/23 [==============================] - 0s 3ms/step - loss: 0.1572 - accuracy: 0.9401\n",
      "Epoch 36/500\n",
      "23/23 [==============================] - 0s 3ms/step - loss: 0.1567 - accuracy: 0.9401\n",
      "Epoch 37/500\n",
      "23/23 [==============================] - 0s 3ms/step - loss: 0.1564 - accuracy: 0.9401\n",
      "Epoch 38/500\n",
      "23/23 [==============================] - 0s 2ms/step - loss: 0.1568 - accuracy: 0.9428\n",
      "Epoch 39/500\n",
      "23/23 [==============================] - 0s 2ms/step - loss: 0.1571 - accuracy: 0.9373\n",
      "Epoch 40/500\n",
      "23/23 [==============================] - 0s 2ms/step - loss: 0.1558 - accuracy: 0.9401\n",
      "Epoch 41/500\n",
      "23/23 [==============================] - 0s 3ms/step - loss: 0.1556 - accuracy: 0.9441\n",
      "Epoch 42/500\n",
      "23/23 [==============================] - 0s 3ms/step - loss: 0.1556 - accuracy: 0.9387\n",
      "Epoch 43/500\n",
      "23/23 [==============================] - 0s 2ms/step - loss: 0.1553 - accuracy: 0.9387\n",
      "Epoch 44/500\n",
      "23/23 [==============================] - 0s 3ms/step - loss: 0.1549 - accuracy: 0.9401\n",
      "Epoch 45/500\n",
      "23/23 [==============================] - 0s 3ms/step - loss: 0.1558 - accuracy: 0.9441\n",
      "Epoch 46/500\n",
      "23/23 [==============================] - 0s 3ms/step - loss: 0.1540 - accuracy: 0.9414\n",
      "Epoch 47/500\n",
      "23/23 [==============================] - 0s 4ms/step - loss: 0.1553 - accuracy: 0.9414\n",
      "Epoch 48/500\n",
      "23/23 [==============================] - 0s 5ms/step - loss: 0.1550 - accuracy: 0.9387\n",
      "Epoch 49/500\n",
      "23/23 [==============================] - 0s 3ms/step - loss: 0.1539 - accuracy: 0.9428\n",
      "Epoch 50/500\n",
      "23/23 [==============================] - 0s 4ms/step - loss: 0.1536 - accuracy: 0.9401\n",
      "Epoch 51/500\n",
      "23/23 [==============================] - 0s 3ms/step - loss: 0.1536 - accuracy: 0.9441\n",
      "Epoch 52/500\n",
      "23/23 [==============================] - 0s 4ms/step - loss: 0.1536 - accuracy: 0.9441\n",
      "Epoch 53/500\n",
      "23/23 [==============================] - 0s 3ms/step - loss: 0.1527 - accuracy: 0.9414\n",
      "Epoch 54/500\n",
      "23/23 [==============================] - 0s 3ms/step - loss: 0.1527 - accuracy: 0.9414\n",
      "Epoch 55/500\n",
      "23/23 [==============================] - 0s 2ms/step - loss: 0.1530 - accuracy: 0.9414\n",
      "Epoch 56/500\n",
      "23/23 [==============================] - 0s 2ms/step - loss: 0.1525 - accuracy: 0.9428\n",
      "Epoch 57/500\n",
      "23/23 [==============================] - 0s 2ms/step - loss: 0.1531 - accuracy: 0.9414\n",
      "Epoch 58/500\n",
      "23/23 [==============================] - 0s 2ms/step - loss: 0.1517 - accuracy: 0.9428\n",
      "Epoch 59/500\n",
      "23/23 [==============================] - 0s 2ms/step - loss: 0.1519 - accuracy: 0.9441\n",
      "Epoch 60/500\n",
      "23/23 [==============================] - 0s 2ms/step - loss: 0.1524 - accuracy: 0.9428\n",
      "Epoch 61/500\n",
      "23/23 [==============================] - 0s 2ms/step - loss: 0.1516 - accuracy: 0.9428\n",
      "Epoch 62/500\n",
      "23/23 [==============================] - 0s 2ms/step - loss: 0.1516 - accuracy: 0.9428\n",
      "Epoch 63/500\n",
      "23/23 [==============================] - 0s 2ms/step - loss: 0.1514 - accuracy: 0.9414\n",
      "Epoch 64/500\n",
      "23/23 [==============================] - 0s 2ms/step - loss: 0.1510 - accuracy: 0.9428\n",
      "Epoch 65/500\n",
      "23/23 [==============================] - 0s 2ms/step - loss: 0.1507 - accuracy: 0.9428\n",
      "Epoch 66/500\n",
      "23/23 [==============================] - 0s 2ms/step - loss: 0.1508 - accuracy: 0.9428\n",
      "Epoch 67/500\n",
      "23/23 [==============================] - 0s 2ms/step - loss: 0.1507 - accuracy: 0.9428\n",
      "Epoch 68/500\n",
      "23/23 [==============================] - 0s 2ms/step - loss: 0.1509 - accuracy: 0.9441\n",
      "Epoch 69/500\n",
      "23/23 [==============================] - 0s 2ms/step - loss: 0.1502 - accuracy: 0.9414\n",
      "Epoch 70/500\n",
      "23/23 [==============================] - 0s 2ms/step - loss: 0.1502 - accuracy: 0.9414\n",
      "Epoch 71/500\n",
      "23/23 [==============================] - 0s 3ms/step - loss: 0.1503 - accuracy: 0.9455\n",
      "Epoch 72/500\n",
      "23/23 [==============================] - 0s 2ms/step - loss: 0.1494 - accuracy: 0.9428\n",
      "Epoch 73/500\n",
      "23/23 [==============================] - 0s 3ms/step - loss: 0.1499 - accuracy: 0.9428\n",
      "Epoch 74/500\n",
      "23/23 [==============================] - 0s 2ms/step - loss: 0.1500 - accuracy: 0.9441\n",
      "Epoch 75/500\n",
      "23/23 [==============================] - 0s 2ms/step - loss: 0.1492 - accuracy: 0.9455\n",
      "Epoch 76/500\n",
      "23/23 [==============================] - 0s 2ms/step - loss: 0.1492 - accuracy: 0.9441\n",
      "Epoch 77/500\n",
      "23/23 [==============================] - 0s 2ms/step - loss: 0.1490 - accuracy: 0.9482\n",
      "Epoch 78/500\n",
      "23/23 [==============================] - 0s 2ms/step - loss: 0.1492 - accuracy: 0.9441\n",
      "Epoch 79/500\n",
      "23/23 [==============================] - 0s 3ms/step - loss: 0.1482 - accuracy: 0.9441\n",
      "Epoch 80/500\n",
      "23/23 [==============================] - 0s 2ms/step - loss: 0.1485 - accuracy: 0.9455\n",
      "Epoch 81/500\n",
      "23/23 [==============================] - 0s 2ms/step - loss: 0.1487 - accuracy: 0.9428\n",
      "Epoch 82/500\n",
      "23/23 [==============================] - 0s 2ms/step - loss: 0.1477 - accuracy: 0.9469\n",
      "Epoch 83/500\n",
      "23/23 [==============================] - 0s 2ms/step - loss: 0.1485 - accuracy: 0.9441\n",
      "Epoch 84/500\n",
      "23/23 [==============================] - 0s 2ms/step - loss: 0.1477 - accuracy: 0.9455\n",
      "Epoch 85/500\n",
      "23/23 [==============================] - 0s 2ms/step - loss: 0.1477 - accuracy: 0.9455\n",
      "Epoch 86/500\n",
      "23/23 [==============================] - 0s 2ms/step - loss: 0.1481 - accuracy: 0.9482\n",
      "Epoch 87/500\n",
      "23/23 [==============================] - 0s 3ms/step - loss: 0.1475 - accuracy: 0.9455\n",
      "Epoch 88/500\n",
      "23/23 [==============================] - 0s 3ms/step - loss: 0.1473 - accuracy: 0.9441\n",
      "Epoch 89/500\n",
      "23/23 [==============================] - 0s 2ms/step - loss: 0.1478 - accuracy: 0.9441\n",
      "Epoch 90/500\n",
      "23/23 [==============================] - 0s 3ms/step - loss: 0.1476 - accuracy: 0.9469\n",
      "Epoch 91/500\n",
      "23/23 [==============================] - 0s 3ms/step - loss: 0.1477 - accuracy: 0.9455\n",
      "Epoch 92/500\n",
      "23/23 [==============================] - 0s 3ms/step - loss: 0.1475 - accuracy: 0.9455\n",
      "Epoch 93/500\n",
      "23/23 [==============================] - 0s 2ms/step - loss: 0.1466 - accuracy: 0.9469\n",
      "Epoch 94/500\n",
      "23/23 [==============================] - 0s 3ms/step - loss: 0.1465 - accuracy: 0.9469\n",
      "Epoch 95/500\n",
      "23/23 [==============================] - 0s 3ms/step - loss: 0.1462 - accuracy: 0.9469\n",
      "Epoch 96/500\n",
      "23/23 [==============================] - 0s 3ms/step - loss: 0.1471 - accuracy: 0.9455\n",
      "Epoch 97/500\n",
      "23/23 [==============================] - 0s 3ms/step - loss: 0.1463 - accuracy: 0.9496\n",
      "Epoch 98/500\n",
      "23/23 [==============================] - 0s 3ms/step - loss: 0.1459 - accuracy: 0.9482\n",
      "Epoch 99/500\n",
      "23/23 [==============================] - 0s 2ms/step - loss: 0.1456 - accuracy: 0.9482\n",
      "Epoch 100/500\n",
      "23/23 [==============================] - 0s 3ms/step - loss: 0.1466 - accuracy: 0.9469\n",
      "Epoch 101/500\n",
      "23/23 [==============================] - 0s 4ms/step - loss: 0.1454 - accuracy: 0.9469\n",
      "Epoch 102/500\n",
      "23/23 [==============================] - 0s 2ms/step - loss: 0.1466 - accuracy: 0.9455\n",
      "Epoch 103/500\n",
      "23/23 [==============================] - 0s 3ms/step - loss: 0.1459 - accuracy: 0.9496\n",
      "Epoch 104/500\n",
      "23/23 [==============================] - 0s 2ms/step - loss: 0.1452 - accuracy: 0.9469\n",
      "Epoch 105/500\n",
      "23/23 [==============================] - 0s 2ms/step - loss: 0.1443 - accuracy: 0.9469\n",
      "Epoch 106/500\n",
      "23/23 [==============================] - 0s 3ms/step - loss: 0.1450 - accuracy: 0.9482\n",
      "Epoch 107/500\n",
      "23/23 [==============================] - 0s 3ms/step - loss: 0.1451 - accuracy: 0.9469\n",
      "Epoch 108/500\n",
      "23/23 [==============================] - 0s 2ms/step - loss: 0.1442 - accuracy: 0.9469\n",
      "Epoch 109/500\n",
      "23/23 [==============================] - 0s 2ms/step - loss: 0.1445 - accuracy: 0.9482\n",
      "Epoch 110/500\n",
      "23/23 [==============================] - 0s 2ms/step - loss: 0.1440 - accuracy: 0.9482\n",
      "Epoch 111/500\n",
      "23/23 [==============================] - 0s 3ms/step - loss: 0.1447 - accuracy: 0.9455\n",
      "Epoch 112/500\n",
      "23/23 [==============================] - 0s 3ms/step - loss: 0.1446 - accuracy: 0.9482\n",
      "Epoch 113/500\n",
      "23/23 [==============================] - 0s 3ms/step - loss: 0.1444 - accuracy: 0.9469\n",
      "Epoch 114/500\n",
      "23/23 [==============================] - 0s 3ms/step - loss: 0.1432 - accuracy: 0.9496\n",
      "Epoch 115/500\n",
      "23/23 [==============================] - 0s 3ms/step - loss: 0.1434 - accuracy: 0.9482\n",
      "Epoch 116/500\n",
      "23/23 [==============================] - 0s 3ms/step - loss: 0.1432 - accuracy: 0.9496\n",
      "Epoch 117/500\n",
      "23/23 [==============================] - 0s 3ms/step - loss: 0.1430 - accuracy: 0.9469\n",
      "Epoch 118/500\n",
      "23/23 [==============================] - 0s 2ms/step - loss: 0.1430 - accuracy: 0.9455\n",
      "Epoch 119/500\n",
      "23/23 [==============================] - 0s 2ms/step - loss: 0.1425 - accuracy: 0.9496\n",
      "Epoch 120/500\n",
      "23/23 [==============================] - 0s 3ms/step - loss: 0.1424 - accuracy: 0.9482\n",
      "Epoch 121/500\n",
      "23/23 [==============================] - 0s 3ms/step - loss: 0.1427 - accuracy: 0.9496\n",
      "Epoch 122/500\n",
      "23/23 [==============================] - 0s 3ms/step - loss: 0.1424 - accuracy: 0.9469\n",
      "Epoch 123/500\n",
      "23/23 [==============================] - 0s 3ms/step - loss: 0.1428 - accuracy: 0.9496\n",
      "Epoch 124/500\n",
      "23/23 [==============================] - 0s 2ms/step - loss: 0.1426 - accuracy: 0.9469\n",
      "Epoch 125/500\n",
      "23/23 [==============================] - 0s 3ms/step - loss: 0.1424 - accuracy: 0.9496\n",
      "Epoch 126/500\n",
      "23/23 [==============================] - 0s 2ms/step - loss: 0.1422 - accuracy: 0.9496\n",
      "Epoch 127/500\n",
      "23/23 [==============================] - 0s 2ms/step - loss: 0.1424 - accuracy: 0.9455\n",
      "Epoch 128/500\n",
      "23/23 [==============================] - 0s 3ms/step - loss: 0.1416 - accuracy: 0.9469\n",
      "Epoch 129/500\n",
      "23/23 [==============================] - 0s 3ms/step - loss: 0.1423 - accuracy: 0.9469\n",
      "Epoch 130/500\n",
      "23/23 [==============================] - 0s 3ms/step - loss: 0.1415 - accuracy: 0.9482\n",
      "Epoch 131/500\n",
      "23/23 [==============================] - 0s 2ms/step - loss: 0.1422 - accuracy: 0.9482\n",
      "Epoch 132/500\n",
      "23/23 [==============================] - 0s 3ms/step - loss: 0.1414 - accuracy: 0.9482\n",
      "Epoch 133/500\n",
      "23/23 [==============================] - 0s 3ms/step - loss: 0.1410 - accuracy: 0.9482\n",
      "Epoch 134/500\n",
      "23/23 [==============================] - 0s 3ms/step - loss: 0.1422 - accuracy: 0.9469\n",
      "Epoch 135/500\n",
      "23/23 [==============================] - 0s 3ms/step - loss: 0.1414 - accuracy: 0.9482\n",
      "Epoch 136/500\n",
      "23/23 [==============================] - 0s 3ms/step - loss: 0.1412 - accuracy: 0.9482\n",
      "Epoch 137/500\n",
      "23/23 [==============================] - 0s 3ms/step - loss: 0.1401 - accuracy: 0.9496\n",
      "Epoch 138/500\n",
      "23/23 [==============================] - 0s 3ms/step - loss: 0.1403 - accuracy: 0.9482\n",
      "Epoch 139/500\n",
      "23/23 [==============================] - 0s 3ms/step - loss: 0.1409 - accuracy: 0.9510\n",
      "Epoch 140/500\n",
      "23/23 [==============================] - 0s 2ms/step - loss: 0.1401 - accuracy: 0.9523\n",
      "Epoch 141/500\n",
      "23/23 [==============================] - 0s 2ms/step - loss: 0.1399 - accuracy: 0.9469\n",
      "Epoch 142/500\n",
      "23/23 [==============================] - 0s 3ms/step - loss: 0.1408 - accuracy: 0.9455\n",
      "Epoch 143/500\n",
      "23/23 [==============================] - 0s 2ms/step - loss: 0.1412 - accuracy: 0.9510\n",
      "Epoch 144/500\n",
      "23/23 [==============================] - 0s 2ms/step - loss: 0.1402 - accuracy: 0.9510\n",
      "Epoch 145/500\n",
      "23/23 [==============================] - 0s 2ms/step - loss: 0.1397 - accuracy: 0.9469\n",
      "Epoch 146/500\n",
      "23/23 [==============================] - 0s 2ms/step - loss: 0.1400 - accuracy: 0.9537\n",
      "Epoch 147/500\n",
      "23/23 [==============================] - 0s 3ms/step - loss: 0.1388 - accuracy: 0.9510\n",
      "Epoch 148/500\n",
      "23/23 [==============================] - 0s 2ms/step - loss: 0.1397 - accuracy: 0.9455\n",
      "Epoch 149/500\n",
      "23/23 [==============================] - 0s 3ms/step - loss: 0.1396 - accuracy: 0.9523\n",
      "Epoch 150/500\n",
      "23/23 [==============================] - 0s 2ms/step - loss: 0.1392 - accuracy: 0.9482\n",
      "Epoch 151/500\n",
      "23/23 [==============================] - 0s 2ms/step - loss: 0.1397 - accuracy: 0.9482\n",
      "Epoch 152/500\n",
      "23/23 [==============================] - 0s 3ms/step - loss: 0.1385 - accuracy: 0.9496\n",
      "Epoch 153/500\n",
      "23/23 [==============================] - 0s 3ms/step - loss: 0.1383 - accuracy: 0.9496\n",
      "Epoch 154/500\n",
      "23/23 [==============================] - 0s 2ms/step - loss: 0.1387 - accuracy: 0.9510\n",
      "Epoch 155/500\n",
      "23/23 [==============================] - 0s 2ms/step - loss: 0.1382 - accuracy: 0.9510\n",
      "Epoch 156/500\n",
      "23/23 [==============================] - 0s 2ms/step - loss: 0.1391 - accuracy: 0.9537\n",
      "Epoch 157/500\n",
      "23/23 [==============================] - 0s 2ms/step - loss: 0.1377 - accuracy: 0.9510\n",
      "Epoch 158/500\n",
      "23/23 [==============================] - 0s 3ms/step - loss: 0.1375 - accuracy: 0.9482\n",
      "Epoch 159/500\n",
      "23/23 [==============================] - 0s 3ms/step - loss: 0.1376 - accuracy: 0.9523\n",
      "Epoch 160/500\n",
      "23/23 [==============================] - 0s 4ms/step - loss: 0.1370 - accuracy: 0.9510\n",
      "Epoch 161/500\n",
      "23/23 [==============================] - 0s 2ms/step - loss: 0.1379 - accuracy: 0.9510\n",
      "Epoch 162/500\n",
      "23/23 [==============================] - 0s 2ms/step - loss: 0.1375 - accuracy: 0.9523\n",
      "Epoch 163/500\n",
      "23/23 [==============================] - 0s 2ms/step - loss: 0.1374 - accuracy: 0.9523\n",
      "Epoch 164/500\n",
      "23/23 [==============================] - 0s 2ms/step - loss: 0.1379 - accuracy: 0.9537\n",
      "Epoch 165/500\n",
      "23/23 [==============================] - 0s 3ms/step - loss: 0.1376 - accuracy: 0.9510\n",
      "Epoch 166/500\n",
      "23/23 [==============================] - 0s 2ms/step - loss: 0.1371 - accuracy: 0.9537\n",
      "Epoch 167/500\n",
      "23/23 [==============================] - 0s 3ms/step - loss: 0.1375 - accuracy: 0.9550\n",
      "Epoch 168/500\n",
      "23/23 [==============================] - 0s 3ms/step - loss: 0.1370 - accuracy: 0.9537\n",
      "Epoch 169/500\n",
      "23/23 [==============================] - 0s 3ms/step - loss: 0.1366 - accuracy: 0.9523\n",
      "Epoch 170/500\n",
      "23/23 [==============================] - 0s 2ms/step - loss: 0.1371 - accuracy: 0.9537\n",
      "Epoch 171/500\n",
      "23/23 [==============================] - 0s 2ms/step - loss: 0.1360 - accuracy: 0.9550\n",
      "Epoch 172/500\n",
      "23/23 [==============================] - 0s 3ms/step - loss: 0.1365 - accuracy: 0.9550\n",
      "Epoch 173/500\n",
      "23/23 [==============================] - 0s 3ms/step - loss: 0.1365 - accuracy: 0.9523\n",
      "Epoch 174/500\n",
      "23/23 [==============================] - 0s 3ms/step - loss: 0.1356 - accuracy: 0.9523\n",
      "Epoch 175/500\n",
      "23/23 [==============================] - 0s 3ms/step - loss: 0.1364 - accuracy: 0.9537\n",
      "Epoch 176/500\n",
      "23/23 [==============================] - 0s 3ms/step - loss: 0.1356 - accuracy: 0.9523\n",
      "Epoch 177/500\n",
      "23/23 [==============================] - 0s 3ms/step - loss: 0.1359 - accuracy: 0.9550\n",
      "Epoch 178/500\n",
      "23/23 [==============================] - 0s 2ms/step - loss: 0.1356 - accuracy: 0.9510\n",
      "Epoch 179/500\n",
      "23/23 [==============================] - 0s 2ms/step - loss: 0.1370 - accuracy: 0.9523\n",
      "Epoch 180/500\n",
      "23/23 [==============================] - 0s 3ms/step - loss: 0.1354 - accuracy: 0.9523\n",
      "Epoch 181/500\n",
      "23/23 [==============================] - 0s 3ms/step - loss: 0.1363 - accuracy: 0.9564\n",
      "Epoch 182/500\n",
      "23/23 [==============================] - 0s 6ms/step - loss: 0.1364 - accuracy: 0.9469\n",
      "Epoch 183/500\n",
      "23/23 [==============================] - 0s 3ms/step - loss: 0.1348 - accuracy: 0.9550\n",
      "Epoch 184/500\n",
      "23/23 [==============================] - 0s 3ms/step - loss: 0.1351 - accuracy: 0.9523\n",
      "Epoch 185/500\n",
      "23/23 [==============================] - 0s 6ms/step - loss: 0.1351 - accuracy: 0.9550\n",
      "Epoch 186/500\n",
      "23/23 [==============================] - 0s 3ms/step - loss: 0.1355 - accuracy: 0.9550\n",
      "Epoch 187/500\n",
      "23/23 [==============================] - 0s 2ms/step - loss: 0.1359 - accuracy: 0.9496\n",
      "Epoch 188/500\n",
      "23/23 [==============================] - 0s 3ms/step - loss: 0.1361 - accuracy: 0.9550\n",
      "Epoch 189/500\n",
      "23/23 [==============================] - 0s 3ms/step - loss: 0.1341 - accuracy: 0.9523\n",
      "Epoch 190/500\n",
      "23/23 [==============================] - 0s 3ms/step - loss: 0.1352 - accuracy: 0.9550\n",
      "Epoch 191/500\n",
      "23/23 [==============================] - 0s 3ms/step - loss: 0.1346 - accuracy: 0.9523\n",
      "Epoch 192/500\n",
      "23/23 [==============================] - 0s 3ms/step - loss: 0.1347 - accuracy: 0.9550\n",
      "Epoch 193/500\n",
      "23/23 [==============================] - 0s 2ms/step - loss: 0.1351 - accuracy: 0.9523\n",
      "Epoch 194/500\n",
      "23/23 [==============================] - 0s 2ms/step - loss: 0.1329 - accuracy: 0.9523\n",
      "Epoch 195/500\n",
      "23/23 [==============================] - 0s 2ms/step - loss: 0.1355 - accuracy: 0.9523\n",
      "Epoch 196/500\n",
      "23/23 [==============================] - 0s 2ms/step - loss: 0.1341 - accuracy: 0.9537\n",
      "Epoch 197/500\n",
      "23/23 [==============================] - 0s 2ms/step - loss: 0.1344 - accuracy: 0.9564\n",
      "Epoch 198/500\n",
      "23/23 [==============================] - 0s 2ms/step - loss: 0.1334 - accuracy: 0.9523\n",
      "Epoch 199/500\n",
      "23/23 [==============================] - 0s 2ms/step - loss: 0.1339 - accuracy: 0.9550\n",
      "Epoch 200/500\n",
      "23/23 [==============================] - 0s 3ms/step - loss: 0.1332 - accuracy: 0.9550\n",
      "Epoch 201/500\n",
      "23/23 [==============================] - 0s 2ms/step - loss: 0.1328 - accuracy: 0.9550\n",
      "Epoch 202/500\n",
      "23/23 [==============================] - 0s 2ms/step - loss: 0.1328 - accuracy: 0.9550\n",
      "Epoch 203/500\n",
      "23/23 [==============================] - 0s 2ms/step - loss: 0.1328 - accuracy: 0.9537\n",
      "Epoch 204/500\n",
      "23/23 [==============================] - 0s 2ms/step - loss: 0.1326 - accuracy: 0.9550\n",
      "Epoch 205/500\n",
      "23/23 [==============================] - 0s 2ms/step - loss: 0.1333 - accuracy: 0.9537\n",
      "Epoch 206/500\n",
      "23/23 [==============================] - 0s 2ms/step - loss: 0.1324 - accuracy: 0.9550\n",
      "Epoch 207/500\n",
      "23/23 [==============================] - 0s 2ms/step - loss: 0.1331 - accuracy: 0.9537\n",
      "Epoch 208/500\n",
      "23/23 [==============================] - 0s 2ms/step - loss: 0.1322 - accuracy: 0.9550\n",
      "Epoch 209/500\n",
      "23/23 [==============================] - 0s 2ms/step - loss: 0.1328 - accuracy: 0.9510\n",
      "Epoch 210/500\n",
      "23/23 [==============================] - 0s 3ms/step - loss: 0.1335 - accuracy: 0.9550\n",
      "Epoch 211/500\n",
      "23/23 [==============================] - 0s 2ms/step - loss: 0.1343 - accuracy: 0.9482\n",
      "Epoch 212/500\n",
      "23/23 [==============================] - 0s 2ms/step - loss: 0.1317 - accuracy: 0.9550\n",
      "Epoch 213/500\n",
      "23/23 [==============================] - 0s 2ms/step - loss: 0.1328 - accuracy: 0.9564\n",
      "Epoch 214/500\n",
      "23/23 [==============================] - 0s 2ms/step - loss: 0.1320 - accuracy: 0.9550\n",
      "Epoch 215/500\n",
      "23/23 [==============================] - 0s 2ms/step - loss: 0.1321 - accuracy: 0.9537\n",
      "Epoch 216/500\n",
      "23/23 [==============================] - 0s 2ms/step - loss: 0.1327 - accuracy: 0.9523\n",
      "Epoch 217/500\n",
      "23/23 [==============================] - 0s 2ms/step - loss: 0.1320 - accuracy: 0.9550\n",
      "Epoch 218/500\n",
      "23/23 [==============================] - 0s 2ms/step - loss: 0.1323 - accuracy: 0.9523\n",
      "Epoch 219/500\n",
      "23/23 [==============================] - 0s 2ms/step - loss: 0.1323 - accuracy: 0.9537\n",
      "Epoch 220/500\n",
      "23/23 [==============================] - 0s 2ms/step - loss: 0.1312 - accuracy: 0.9550\n",
      "Epoch 221/500\n",
      "23/23 [==============================] - 0s 3ms/step - loss: 0.1308 - accuracy: 0.9537\n",
      "Epoch 222/500\n",
      "23/23 [==============================] - 0s 3ms/step - loss: 0.1314 - accuracy: 0.9537\n",
      "Epoch 223/500\n",
      "23/23 [==============================] - 0s 3ms/step - loss: 0.1312 - accuracy: 0.9537\n",
      "Epoch 224/500\n",
      "23/23 [==============================] - 0s 3ms/step - loss: 0.1313 - accuracy: 0.9550\n",
      "Epoch 225/500\n",
      "23/23 [==============================] - 0s 2ms/step - loss: 0.1307 - accuracy: 0.9550\n",
      "Epoch 226/500\n",
      "23/23 [==============================] - 0s 3ms/step - loss: 0.1310 - accuracy: 0.9523\n",
      "Epoch 227/500\n",
      "23/23 [==============================] - 0s 3ms/step - loss: 0.1304 - accuracy: 0.9550\n",
      "Epoch 228/500\n",
      "23/23 [==============================] - 0s 3ms/step - loss: 0.1315 - accuracy: 0.9523\n",
      "Epoch 229/500\n",
      "23/23 [==============================] - 0s 3ms/step - loss: 0.1304 - accuracy: 0.9550\n",
      "Epoch 230/500\n",
      "23/23 [==============================] - 0s 3ms/step - loss: 0.1302 - accuracy: 0.9550\n",
      "Epoch 231/500\n",
      "23/23 [==============================] - 0s 3ms/step - loss: 0.1311 - accuracy: 0.9550\n",
      "Epoch 232/500\n",
      "23/23 [==============================] - 0s 3ms/step - loss: 0.1301 - accuracy: 0.9537\n",
      "Epoch 233/500\n",
      "23/23 [==============================] - 0s 3ms/step - loss: 0.1298 - accuracy: 0.9523\n",
      "Epoch 234/500\n",
      "23/23 [==============================] - 0s 3ms/step - loss: 0.1302 - accuracy: 0.9550\n",
      "Epoch 235/500\n",
      "23/23 [==============================] - 0s 3ms/step - loss: 0.1300 - accuracy: 0.9550\n",
      "Epoch 236/500\n",
      "23/23 [==============================] - 0s 3ms/step - loss: 0.1299 - accuracy: 0.9550\n",
      "Epoch 237/500\n",
      "23/23 [==============================] - 0s 3ms/step - loss: 0.1303 - accuracy: 0.9537\n",
      "Epoch 238/500\n",
      "23/23 [==============================] - 0s 4ms/step - loss: 0.1298 - accuracy: 0.9537\n",
      "Epoch 239/500\n",
      "23/23 [==============================] - 0s 5ms/step - loss: 0.1299 - accuracy: 0.9550\n",
      "Epoch 240/500\n",
      "23/23 [==============================] - 0s 3ms/step - loss: 0.1298 - accuracy: 0.9550\n",
      "Epoch 241/500\n",
      "23/23 [==============================] - 0s 2ms/step - loss: 0.1288 - accuracy: 0.9578\n",
      "Epoch 242/500\n",
      "23/23 [==============================] - 0s 2ms/step - loss: 0.1296 - accuracy: 0.9564\n",
      "Epoch 243/500\n",
      "23/23 [==============================] - 0s 2ms/step - loss: 0.1285 - accuracy: 0.9537\n",
      "Epoch 244/500\n",
      "23/23 [==============================] - 0s 3ms/step - loss: 0.1291 - accuracy: 0.9537\n",
      "Epoch 245/500\n",
      "23/23 [==============================] - 0s 3ms/step - loss: 0.1288 - accuracy: 0.9550\n",
      "Epoch 246/500\n",
      "23/23 [==============================] - 0s 4ms/step - loss: 0.1289 - accuracy: 0.9564\n",
      "Epoch 247/500\n",
      "23/23 [==============================] - 0s 3ms/step - loss: 0.1291 - accuracy: 0.9564\n",
      "Epoch 248/500\n",
      "23/23 [==============================] - 0s 3ms/step - loss: 0.1291 - accuracy: 0.9564\n",
      "Epoch 249/500\n",
      "23/23 [==============================] - 0s 3ms/step - loss: 0.1285 - accuracy: 0.9550\n",
      "Epoch 250/500\n",
      "23/23 [==============================] - 0s 3ms/step - loss: 0.1287 - accuracy: 0.9564\n",
      "Epoch 251/500\n",
      "23/23 [==============================] - 0s 3ms/step - loss: 0.1291 - accuracy: 0.9523\n",
      "Epoch 252/500\n",
      "23/23 [==============================] - 0s 2ms/step - loss: 0.1284 - accuracy: 0.9564\n",
      "Epoch 253/500\n",
      "23/23 [==============================] - 0s 3ms/step - loss: 0.1284 - accuracy: 0.9550\n",
      "Epoch 254/500\n",
      "23/23 [==============================] - 0s 2ms/step - loss: 0.1283 - accuracy: 0.9578\n",
      "Epoch 255/500\n",
      "23/23 [==============================] - 0s 2ms/step - loss: 0.1287 - accuracy: 0.9550\n",
      "Epoch 256/500\n",
      "23/23 [==============================] - 0s 3ms/step - loss: 0.1278 - accuracy: 0.9564\n",
      "Epoch 257/500\n",
      "23/23 [==============================] - 0s 2ms/step - loss: 0.1276 - accuracy: 0.9550\n",
      "Epoch 258/500\n",
      "23/23 [==============================] - 0s 2ms/step - loss: 0.1277 - accuracy: 0.9564\n",
      "Epoch 259/500\n",
      "23/23 [==============================] - 0s 3ms/step - loss: 0.1276 - accuracy: 0.9550\n",
      "Epoch 260/500\n",
      "23/23 [==============================] - 0s 3ms/step - loss: 0.1276 - accuracy: 0.9550\n",
      "Epoch 261/500\n",
      "23/23 [==============================] - 0s 3ms/step - loss: 0.1274 - accuracy: 0.9564\n",
      "Epoch 262/500\n",
      "23/23 [==============================] - 0s 2ms/step - loss: 0.1272 - accuracy: 0.9578\n",
      "Epoch 263/500\n",
      "23/23 [==============================] - 0s 2ms/step - loss: 0.1272 - accuracy: 0.9564\n",
      "Epoch 264/500\n",
      "23/23 [==============================] - 0s 2ms/step - loss: 0.1278 - accuracy: 0.9564\n",
      "Epoch 265/500\n",
      "23/23 [==============================] - 0s 2ms/step - loss: 0.1271 - accuracy: 0.9578\n",
      "Epoch 266/500\n",
      "23/23 [==============================] - 0s 2ms/step - loss: 0.1275 - accuracy: 0.9537\n",
      "Epoch 267/500\n",
      "23/23 [==============================] - 0s 2ms/step - loss: 0.1290 - accuracy: 0.9564\n",
      "Epoch 268/500\n",
      "23/23 [==============================] - 0s 2ms/step - loss: 0.1276 - accuracy: 0.9550\n",
      "Epoch 269/500\n",
      "23/23 [==============================] - 0s 3ms/step - loss: 0.1281 - accuracy: 0.9564\n",
      "Epoch 270/500\n",
      "23/23 [==============================] - 0s 2ms/step - loss: 0.1270 - accuracy: 0.9537\n",
      "Epoch 271/500\n",
      "23/23 [==============================] - 0s 2ms/step - loss: 0.1270 - accuracy: 0.9564\n",
      "Epoch 272/500\n",
      "23/23 [==============================] - 0s 3ms/step - loss: 0.1267 - accuracy: 0.9550\n",
      "Epoch 273/500\n",
      "23/23 [==============================] - 0s 3ms/step - loss: 0.1265 - accuracy: 0.9564\n",
      "Epoch 274/500\n",
      "23/23 [==============================] - 0s 2ms/step - loss: 0.1264 - accuracy: 0.9591\n",
      "Epoch 275/500\n",
      "23/23 [==============================] - 0s 2ms/step - loss: 0.1262 - accuracy: 0.9550\n",
      "Epoch 276/500\n",
      "23/23 [==============================] - 0s 2ms/step - loss: 0.1265 - accuracy: 0.9564\n",
      "Epoch 277/500\n",
      "23/23 [==============================] - 0s 2ms/step - loss: 0.1260 - accuracy: 0.9578\n",
      "Epoch 278/500\n",
      "23/23 [==============================] - 0s 3ms/step - loss: 0.1255 - accuracy: 0.9564\n",
      "Epoch 279/500\n",
      "23/23 [==============================] - 0s 2ms/step - loss: 0.1258 - accuracy: 0.9578\n",
      "Epoch 280/500\n",
      "23/23 [==============================] - 0s 2ms/step - loss: 0.1253 - accuracy: 0.9591\n",
      "Epoch 281/500\n",
      "23/23 [==============================] - 0s 2ms/step - loss: 0.1258 - accuracy: 0.9578\n",
      "Epoch 282/500\n",
      "23/23 [==============================] - 0s 3ms/step - loss: 0.1257 - accuracy: 0.9523\n",
      "Epoch 283/500\n",
      "23/23 [==============================] - 0s 2ms/step - loss: 0.1253 - accuracy: 0.9591\n",
      "Epoch 284/500\n",
      "23/23 [==============================] - 0s 3ms/step - loss: 0.1259 - accuracy: 0.9591\n",
      "Epoch 285/500\n",
      "23/23 [==============================] - 0s 4ms/step - loss: 0.1258 - accuracy: 0.9564\n",
      "Epoch 286/500\n",
      "23/23 [==============================] - 0s 3ms/step - loss: 0.1256 - accuracy: 0.9578\n",
      "Epoch 287/500\n",
      "23/23 [==============================] - 0s 2ms/step - loss: 0.1251 - accuracy: 0.9578\n",
      "Epoch 288/500\n",
      "23/23 [==============================] - 0s 2ms/step - loss: 0.1256 - accuracy: 0.9564\n",
      "Epoch 289/500\n",
      "23/23 [==============================] - 0s 2ms/step - loss: 0.1246 - accuracy: 0.9564\n",
      "Epoch 290/500\n",
      "23/23 [==============================] - 0s 3ms/step - loss: 0.1252 - accuracy: 0.9578\n",
      "Epoch 291/500\n",
      "23/23 [==============================] - 0s 3ms/step - loss: 0.1257 - accuracy: 0.9564\n",
      "Epoch 292/500\n",
      "23/23 [==============================] - 0s 4ms/step - loss: 0.1255 - accuracy: 0.9523\n",
      "Epoch 293/500\n",
      "23/23 [==============================] - 0s 2ms/step - loss: 0.1245 - accuracy: 0.9591\n",
      "Epoch 294/500\n",
      "23/23 [==============================] - 0s 3ms/step - loss: 0.1245 - accuracy: 0.9564\n",
      "Epoch 295/500\n",
      "23/23 [==============================] - 0s 2ms/step - loss: 0.1239 - accuracy: 0.9578\n",
      "Epoch 296/500\n",
      "23/23 [==============================] - 0s 2ms/step - loss: 0.1243 - accuracy: 0.9564\n",
      "Epoch 297/500\n",
      "23/23 [==============================] - 0s 2ms/step - loss: 0.1246 - accuracy: 0.9537\n",
      "Epoch 298/500\n",
      "23/23 [==============================] - 0s 3ms/step - loss: 0.1239 - accuracy: 0.9578\n",
      "Epoch 299/500\n",
      "23/23 [==============================] - 0s 5ms/step - loss: 0.1244 - accuracy: 0.9537\n",
      "Epoch 300/500\n",
      "23/23 [==============================] - 0s 2ms/step - loss: 0.1251 - accuracy: 0.9537\n",
      "Epoch 301/500\n",
      "23/23 [==============================] - 0s 3ms/step - loss: 0.1241 - accuracy: 0.9564\n",
      "Epoch 302/500\n",
      "23/23 [==============================] - 0s 3ms/step - loss: 0.1232 - accuracy: 0.9591\n",
      "Epoch 303/500\n",
      "23/23 [==============================] - 0s 2ms/step - loss: 0.1236 - accuracy: 0.9578\n",
      "Epoch 304/500\n",
      "23/23 [==============================] - 0s 3ms/step - loss: 0.1236 - accuracy: 0.9578\n",
      "Epoch 305/500\n",
      "23/23 [==============================] - 0s 3ms/step - loss: 0.1231 - accuracy: 0.9550\n",
      "Epoch 306/500\n",
      "23/23 [==============================] - 0s 5ms/step - loss: 0.1235 - accuracy: 0.9578\n",
      "Epoch 307/500\n",
      "23/23 [==============================] - 0s 3ms/step - loss: 0.1231 - accuracy: 0.9578\n",
      "Epoch 308/500\n",
      "23/23 [==============================] - 0s 4ms/step - loss: 0.1236 - accuracy: 0.9564\n",
      "Epoch 309/500\n",
      "23/23 [==============================] - 0s 4ms/step - loss: 0.1230 - accuracy: 0.9578\n",
      "Epoch 310/500\n",
      "23/23 [==============================] - 0s 4ms/step - loss: 0.1233 - accuracy: 0.9550\n",
      "Epoch 311/500\n",
      "23/23 [==============================] - 0s 4ms/step - loss: 0.1228 - accuracy: 0.9537\n",
      "Epoch 312/500\n",
      "23/23 [==============================] - 0s 3ms/step - loss: 0.1230 - accuracy: 0.9591\n",
      "Epoch 313/500\n",
      "23/23 [==============================] - 0s 3ms/step - loss: 0.1221 - accuracy: 0.9578\n",
      "Epoch 314/500\n",
      "23/23 [==============================] - 0s 3ms/step - loss: 0.1231 - accuracy: 0.9591\n",
      "Epoch 315/500\n",
      "23/23 [==============================] - 0s 2ms/step - loss: 0.1227 - accuracy: 0.9578\n",
      "Epoch 316/500\n",
      "23/23 [==============================] - 0s 2ms/step - loss: 0.1217 - accuracy: 0.9564\n",
      "Epoch 317/500\n",
      "23/23 [==============================] - 0s 2ms/step - loss: 0.1225 - accuracy: 0.9550\n",
      "Epoch 318/500\n",
      "23/23 [==============================] - 0s 2ms/step - loss: 0.1233 - accuracy: 0.9550\n",
      "Epoch 319/500\n",
      "23/23 [==============================] - 0s 2ms/step - loss: 0.1242 - accuracy: 0.9578\n",
      "Epoch 320/500\n",
      "23/23 [==============================] - 0s 2ms/step - loss: 0.1220 - accuracy: 0.9578\n",
      "Epoch 321/500\n",
      "23/23 [==============================] - 0s 2ms/step - loss: 0.1217 - accuracy: 0.9564\n",
      "Epoch 322/500\n",
      "23/23 [==============================] - 0s 2ms/step - loss: 0.1219 - accuracy: 0.9564\n",
      "Epoch 323/500\n",
      "23/23 [==============================] - 0s 2ms/step - loss: 0.1218 - accuracy: 0.9591\n",
      "Epoch 324/500\n",
      "23/23 [==============================] - 0s 2ms/step - loss: 0.1230 - accuracy: 0.9550\n",
      "Epoch 325/500\n",
      "23/23 [==============================] - 0s 2ms/step - loss: 0.1221 - accuracy: 0.9591\n",
      "Epoch 326/500\n",
      "23/23 [==============================] - 0s 2ms/step - loss: 0.1226 - accuracy: 0.9578\n",
      "Epoch 327/500\n",
      "23/23 [==============================] - 0s 2ms/step - loss: 0.1211 - accuracy: 0.9564\n",
      "Epoch 328/500\n",
      "23/23 [==============================] - 0s 2ms/step - loss: 0.1220 - accuracy: 0.9591\n",
      "Epoch 329/500\n",
      "23/23 [==============================] - 0s 2ms/step - loss: 0.1214 - accuracy: 0.9564\n",
      "Epoch 330/500\n",
      "23/23 [==============================] - 0s 3ms/step - loss: 0.1232 - accuracy: 0.9578\n",
      "Epoch 331/500\n",
      "23/23 [==============================] - 0s 2ms/step - loss: 0.1221 - accuracy: 0.9537\n",
      "Epoch 332/500\n",
      "23/23 [==============================] - 0s 4ms/step - loss: 0.1217 - accuracy: 0.9564\n",
      "Epoch 333/500\n",
      "23/23 [==============================] - 0s 3ms/step - loss: 0.1208 - accuracy: 0.9550\n",
      "Epoch 334/500\n",
      "23/23 [==============================] - 0s 3ms/step - loss: 0.1230 - accuracy: 0.9537\n",
      "Epoch 335/500\n",
      "23/23 [==============================] - 0s 3ms/step - loss: 0.1198 - accuracy: 0.9564\n",
      "Epoch 336/500\n",
      "23/23 [==============================] - 0s 2ms/step - loss: 0.1187 - accuracy: 0.9550\n",
      "Epoch 337/500\n",
      "23/23 [==============================] - 0s 2ms/step - loss: 0.1200 - accuracy: 0.9591\n",
      "Epoch 338/500\n",
      "23/23 [==============================] - 0s 2ms/step - loss: 0.1217 - accuracy: 0.9550\n",
      "Epoch 339/500\n",
      "23/23 [==============================] - 0s 2ms/step - loss: 0.1190 - accuracy: 0.9591\n",
      "Epoch 340/500\n",
      "23/23 [==============================] - 0s 2ms/step - loss: 0.1191 - accuracy: 0.9591\n",
      "Epoch 341/500\n",
      "23/23 [==============================] - 0s 3ms/step - loss: 0.1171 - accuracy: 0.9605\n",
      "Epoch 342/500\n",
      "23/23 [==============================] - 0s 2ms/step - loss: 0.1176 - accuracy: 0.9591\n",
      "Epoch 343/500\n",
      "23/23 [==============================] - 0s 3ms/step - loss: 0.1172 - accuracy: 0.9605\n",
      "Epoch 344/500\n",
      "23/23 [==============================] - 0s 2ms/step - loss: 0.1174 - accuracy: 0.9591\n",
      "Epoch 345/500\n",
      "23/23 [==============================] - 0s 2ms/step - loss: 0.1158 - accuracy: 0.9632\n",
      "Epoch 346/500\n",
      "23/23 [==============================] - 0s 2ms/step - loss: 0.1168 - accuracy: 0.9605\n",
      "Epoch 347/500\n",
      "23/23 [==============================] - 0s 3ms/step - loss: 0.1166 - accuracy: 0.9591\n",
      "Epoch 348/500\n",
      "23/23 [==============================] - 0s 4ms/step - loss: 0.1163 - accuracy: 0.9619\n",
      "Epoch 349/500\n",
      "23/23 [==============================] - 0s 4ms/step - loss: 0.1161 - accuracy: 0.9619\n",
      "Epoch 350/500\n",
      "23/23 [==============================] - 0s 3ms/step - loss: 0.1161 - accuracy: 0.9605\n",
      "Epoch 351/500\n",
      "23/23 [==============================] - 0s 3ms/step - loss: 0.1158 - accuracy: 0.9591\n",
      "Epoch 352/500\n",
      "23/23 [==============================] - 0s 2ms/step - loss: 0.1148 - accuracy: 0.9619\n",
      "Epoch 353/500\n",
      "23/23 [==============================] - 0s 2ms/step - loss: 0.1149 - accuracy: 0.9591\n",
      "Epoch 354/500\n",
      "23/23 [==============================] - 0s 2ms/step - loss: 0.1149 - accuracy: 0.9619\n",
      "Epoch 355/500\n",
      "23/23 [==============================] - 0s 3ms/step - loss: 0.1162 - accuracy: 0.9591\n",
      "Epoch 356/500\n",
      "23/23 [==============================] - 0s 2ms/step - loss: 0.1157 - accuracy: 0.9619\n",
      "Epoch 357/500\n",
      "23/23 [==============================] - 0s 5ms/step - loss: 0.1151 - accuracy: 0.9619\n",
      "Epoch 358/500\n",
      "23/23 [==============================] - 0s 4ms/step - loss: 0.1146 - accuracy: 0.9605\n",
      "Epoch 359/500\n",
      "23/23 [==============================] - 0s 2ms/step - loss: 0.1148 - accuracy: 0.9591\n",
      "Epoch 360/500\n",
      "23/23 [==============================] - 0s 2ms/step - loss: 0.1146 - accuracy: 0.9605\n",
      "Epoch 361/500\n",
      "23/23 [==============================] - 0s 3ms/step - loss: 0.1148 - accuracy: 0.9619\n",
      "Epoch 362/500\n",
      "23/23 [==============================] - 0s 2ms/step - loss: 0.1134 - accuracy: 0.9632\n",
      "Epoch 363/500\n",
      "23/23 [==============================] - 0s 2ms/step - loss: 0.1144 - accuracy: 0.9605\n",
      "Epoch 364/500\n",
      "23/23 [==============================] - 0s 2ms/step - loss: 0.1138 - accuracy: 0.9632\n",
      "Epoch 365/500\n",
      "23/23 [==============================] - 0s 1ms/step - loss: 0.1146 - accuracy: 0.9605\n",
      "Epoch 366/500\n",
      "23/23 [==============================] - 0s 1ms/step - loss: 0.1138 - accuracy: 0.9605\n",
      "Epoch 367/500\n",
      "23/23 [==============================] - 0s 2ms/step - loss: 0.1135 - accuracy: 0.9632\n",
      "Epoch 368/500\n",
      "23/23 [==============================] - 0s 2ms/step - loss: 0.1140 - accuracy: 0.9591\n",
      "Epoch 369/500\n",
      "23/23 [==============================] - 0s 2ms/step - loss: 0.1133 - accuracy: 0.9605\n",
      "Epoch 370/500\n",
      "23/23 [==============================] - 0s 3ms/step - loss: 0.1134 - accuracy: 0.9591\n",
      "Epoch 371/500\n",
      "23/23 [==============================] - 0s 2ms/step - loss: 0.1163 - accuracy: 0.9605\n",
      "Epoch 372/500\n",
      "23/23 [==============================] - 0s 2ms/step - loss: 0.1146 - accuracy: 0.9578\n",
      "Epoch 373/500\n",
      "23/23 [==============================] - 0s 4ms/step - loss: 0.1136 - accuracy: 0.9591\n",
      "Epoch 374/500\n",
      "23/23 [==============================] - 0s 4ms/step - loss: 0.1127 - accuracy: 0.9619\n",
      "Epoch 375/500\n",
      "23/23 [==============================] - 0s 3ms/step - loss: 0.1134 - accuracy: 0.9605\n",
      "Epoch 376/500\n",
      "23/23 [==============================] - 0s 5ms/step - loss: 0.1131 - accuracy: 0.9632\n",
      "Epoch 377/500\n",
      "23/23 [==============================] - 0s 3ms/step - loss: 0.1119 - accuracy: 0.9619\n",
      "Epoch 378/500\n",
      "23/23 [==============================] - 0s 2ms/step - loss: 0.1119 - accuracy: 0.9591\n",
      "Epoch 379/500\n",
      "23/23 [==============================] - 0s 3ms/step - loss: 0.1120 - accuracy: 0.9619\n",
      "Epoch 380/500\n",
      "23/23 [==============================] - 0s 2ms/step - loss: 0.1128 - accuracy: 0.9619\n",
      "Epoch 381/500\n",
      "23/23 [==============================] - 0s 2ms/step - loss: 0.1119 - accuracy: 0.9619\n",
      "Epoch 382/500\n",
      "23/23 [==============================] - 0s 2ms/step - loss: 0.1119 - accuracy: 0.9605\n",
      "Epoch 383/500\n",
      "23/23 [==============================] - 0s 3ms/step - loss: 0.1124 - accuracy: 0.9605\n",
      "Epoch 384/500\n",
      "23/23 [==============================] - 0s 2ms/step - loss: 0.1118 - accuracy: 0.9632\n",
      "Epoch 385/500\n",
      "23/23 [==============================] - 0s 2ms/step - loss: 0.1118 - accuracy: 0.9591\n",
      "Epoch 386/500\n",
      "23/23 [==============================] - 0s 2ms/step - loss: 0.1119 - accuracy: 0.9619\n",
      "Epoch 387/500\n",
      "23/23 [==============================] - 0s 2ms/step - loss: 0.1116 - accuracy: 0.9659\n",
      "Epoch 388/500\n",
      "23/23 [==============================] - 0s 3ms/step - loss: 0.1122 - accuracy: 0.9591\n",
      "Epoch 389/500\n",
      "23/23 [==============================] - 0s 3ms/step - loss: 0.1108 - accuracy: 0.9646\n",
      "Epoch 390/500\n",
      "23/23 [==============================] - 0s 3ms/step - loss: 0.1101 - accuracy: 0.9619\n",
      "Epoch 391/500\n",
      "23/23 [==============================] - 0s 4ms/step - loss: 0.1113 - accuracy: 0.9632\n",
      "Epoch 392/500\n",
      "23/23 [==============================] - 0s 3ms/step - loss: 0.1099 - accuracy: 0.9632\n",
      "Epoch 393/500\n",
      "23/23 [==============================] - 0s 2ms/step - loss: 0.1103 - accuracy: 0.9619\n",
      "Epoch 394/500\n",
      "23/23 [==============================] - 0s 2ms/step - loss: 0.1099 - accuracy: 0.9632\n",
      "Epoch 395/500\n",
      "23/23 [==============================] - 0s 2ms/step - loss: 0.1109 - accuracy: 0.9619\n",
      "Epoch 396/500\n",
      "23/23 [==============================] - 0s 2ms/step - loss: 0.1096 - accuracy: 0.9646\n",
      "Epoch 397/500\n",
      "23/23 [==============================] - 0s 2ms/step - loss: 0.1100 - accuracy: 0.9659\n",
      "Epoch 398/500\n",
      "23/23 [==============================] - 0s 2ms/step - loss: 0.1098 - accuracy: 0.9659\n",
      "Epoch 399/500\n",
      "23/23 [==============================] - 0s 2ms/step - loss: 0.1088 - accuracy: 0.9632\n",
      "Epoch 400/500\n",
      "23/23 [==============================] - 0s 2ms/step - loss: 0.1090 - accuracy: 0.9619\n",
      "Epoch 401/500\n",
      "23/23 [==============================] - 0s 3ms/step - loss: 0.1087 - accuracy: 0.9659\n",
      "Epoch 402/500\n",
      "23/23 [==============================] - 0s 2ms/step - loss: 0.1086 - accuracy: 0.9591\n",
      "Epoch 403/500\n",
      "23/23 [==============================] - 0s 2ms/step - loss: 0.1097 - accuracy: 0.9632\n",
      "Epoch 404/500\n",
      "23/23 [==============================] - 0s 2ms/step - loss: 0.1086 - accuracy: 0.9646\n",
      "Epoch 405/500\n",
      "23/23 [==============================] - 0s 2ms/step - loss: 0.1076 - accuracy: 0.9646\n",
      "Epoch 406/500\n",
      "23/23 [==============================] - 0s 2ms/step - loss: 0.1088 - accuracy: 0.9632\n",
      "Epoch 407/500\n",
      "23/23 [==============================] - 0s 2ms/step - loss: 0.1100 - accuracy: 0.9646\n",
      "Epoch 408/500\n",
      "23/23 [==============================] - 0s 2ms/step - loss: 0.1083 - accuracy: 0.9646\n",
      "Epoch 409/500\n",
      "23/23 [==============================] - 0s 2ms/step - loss: 0.1072 - accuracy: 0.9646\n",
      "Epoch 410/500\n",
      "23/23 [==============================] - 0s 2ms/step - loss: 0.1068 - accuracy: 0.9646\n",
      "Epoch 411/500\n",
      "23/23 [==============================] - 0s 3ms/step - loss: 0.1079 - accuracy: 0.9632\n",
      "Epoch 412/500\n",
      "23/23 [==============================] - 0s 2ms/step - loss: 0.1077 - accuracy: 0.9673\n",
      "Epoch 413/500\n",
      "23/23 [==============================] - 0s 3ms/step - loss: 0.1066 - accuracy: 0.9632\n",
      "Epoch 414/500\n",
      "23/23 [==============================] - 0s 2ms/step - loss: 0.1075 - accuracy: 0.9673\n",
      "Epoch 415/500\n",
      "23/23 [==============================] - 0s 2ms/step - loss: 0.1069 - accuracy: 0.9659\n",
      "Epoch 416/500\n",
      "23/23 [==============================] - 0s 2ms/step - loss: 0.1058 - accuracy: 0.9673\n",
      "Epoch 417/500\n",
      "23/23 [==============================] - 0s 2ms/step - loss: 0.1071 - accuracy: 0.9646\n",
      "Epoch 418/500\n",
      "23/23 [==============================] - 0s 2ms/step - loss: 0.1077 - accuracy: 0.9646\n",
      "Epoch 419/500\n",
      "23/23 [==============================] - 0s 2ms/step - loss: 0.1052 - accuracy: 0.9673\n",
      "Epoch 420/500\n",
      "23/23 [==============================] - 0s 3ms/step - loss: 0.1051 - accuracy: 0.9659\n",
      "Epoch 421/500\n",
      "23/23 [==============================] - 0s 2ms/step - loss: 0.1050 - accuracy: 0.9632\n",
      "Epoch 422/500\n",
      "23/23 [==============================] - 0s 1ms/step - loss: 0.1057 - accuracy: 0.9646\n",
      "Epoch 423/500\n",
      "23/23 [==============================] - 0s 1ms/step - loss: 0.1044 - accuracy: 0.9687\n",
      "Epoch 424/500\n",
      "23/23 [==============================] - 0s 2ms/step - loss: 0.1061 - accuracy: 0.9646\n",
      "Epoch 425/500\n",
      "23/23 [==============================] - 0s 2ms/step - loss: 0.1045 - accuracy: 0.9687\n",
      "Epoch 426/500\n",
      "23/23 [==============================] - 0s 3ms/step - loss: 0.1059 - accuracy: 0.9646\n",
      "Epoch 427/500\n",
      "23/23 [==============================] - 0s 3ms/step - loss: 0.1042 - accuracy: 0.9673\n",
      "Epoch 428/500\n",
      "23/23 [==============================] - 0s 4ms/step - loss: 0.1035 - accuracy: 0.9687\n",
      "Epoch 429/500\n",
      "23/23 [==============================] - 0s 4ms/step - loss: 0.1036 - accuracy: 0.9687\n",
      "Epoch 430/500\n",
      "23/23 [==============================] - 0s 3ms/step - loss: 0.1041 - accuracy: 0.9700\n",
      "Epoch 431/500\n",
      "23/23 [==============================] - 0s 2ms/step - loss: 0.1044 - accuracy: 0.9687\n",
      "Epoch 432/500\n",
      "23/23 [==============================] - 0s 2ms/step - loss: 0.1035 - accuracy: 0.9687\n",
      "Epoch 433/500\n",
      "23/23 [==============================] - 0s 3ms/step - loss: 0.1031 - accuracy: 0.9687\n",
      "Epoch 434/500\n",
      "23/23 [==============================] - 0s 2ms/step - loss: 0.1031 - accuracy: 0.9700\n",
      "Epoch 435/500\n",
      "23/23 [==============================] - 0s 2ms/step - loss: 0.1036 - accuracy: 0.9687\n",
      "Epoch 436/500\n",
      "23/23 [==============================] - 0s 2ms/step - loss: 0.1039 - accuracy: 0.9687\n",
      "Epoch 437/500\n",
      "23/23 [==============================] - 0s 4ms/step - loss: 0.1031 - accuracy: 0.9673\n",
      "Epoch 438/500\n",
      "23/23 [==============================] - 0s 4ms/step - loss: 0.1034 - accuracy: 0.9687\n",
      "Epoch 439/500\n",
      "23/23 [==============================] - 0s 3ms/step - loss: 0.1036 - accuracy: 0.9687\n",
      "Epoch 440/500\n",
      "23/23 [==============================] - 0s 3ms/step - loss: 0.1030 - accuracy: 0.9687\n",
      "Epoch 441/500\n",
      "23/23 [==============================] - 0s 2ms/step - loss: 0.1019 - accuracy: 0.9687\n",
      "Epoch 442/500\n",
      "23/23 [==============================] - 0s 2ms/step - loss: 0.1032 - accuracy: 0.9700\n",
      "Epoch 443/500\n",
      "23/23 [==============================] - 0s 2ms/step - loss: 0.1033 - accuracy: 0.9700\n",
      "Epoch 444/500\n",
      "23/23 [==============================] - 0s 2ms/step - loss: 0.1037 - accuracy: 0.9646\n",
      "Epoch 445/500\n",
      "23/23 [==============================] - 0s 3ms/step - loss: 0.1025 - accuracy: 0.9687\n",
      "Epoch 446/500\n",
      "23/23 [==============================] - 0s 4ms/step - loss: 0.1040 - accuracy: 0.9646\n",
      "Epoch 447/500\n",
      "23/23 [==============================] - 0s 2ms/step - loss: 0.1020 - accuracy: 0.9673\n",
      "Epoch 448/500\n",
      "23/23 [==============================] - 0s 3ms/step - loss: 0.1017 - accuracy: 0.9687\n",
      "Epoch 449/500\n",
      "23/23 [==============================] - 0s 2ms/step - loss: 0.1016 - accuracy: 0.9687\n",
      "Epoch 450/500\n",
      "23/23 [==============================] - 0s 2ms/step - loss: 0.1024 - accuracy: 0.9659\n",
      "Epoch 451/500\n",
      "23/23 [==============================] - 0s 2ms/step - loss: 0.1017 - accuracy: 0.9700\n",
      "Epoch 452/500\n",
      "23/23 [==============================] - 0s 2ms/step - loss: 0.1004 - accuracy: 0.9700\n",
      "Epoch 453/500\n",
      "23/23 [==============================] - 0s 3ms/step - loss: 0.1002 - accuracy: 0.9687\n",
      "Epoch 454/500\n",
      "23/23 [==============================] - 0s 5ms/step - loss: 0.1011 - accuracy: 0.9700\n",
      "Epoch 455/500\n",
      "23/23 [==============================] - 0s 3ms/step - loss: 0.1015 - accuracy: 0.9687\n",
      "Epoch 456/500\n",
      "23/23 [==============================] - 0s 3ms/step - loss: 0.1004 - accuracy: 0.9700\n",
      "Epoch 457/500\n",
      "23/23 [==============================] - 0s 3ms/step - loss: 0.1005 - accuracy: 0.9714\n",
      "Epoch 458/500\n",
      "23/23 [==============================] - 0s 2ms/step - loss: 0.1006 - accuracy: 0.9700\n",
      "Epoch 459/500\n",
      "23/23 [==============================] - 0s 2ms/step - loss: 0.1004 - accuracy: 0.9700\n",
      "Epoch 460/500\n",
      "23/23 [==============================] - 0s 2ms/step - loss: 0.1004 - accuracy: 0.9687\n",
      "Epoch 461/500\n",
      "23/23 [==============================] - 0s 2ms/step - loss: 0.1007 - accuracy: 0.9687\n",
      "Epoch 462/500\n",
      "23/23 [==============================] - 0s 3ms/step - loss: 0.1014 - accuracy: 0.9673\n",
      "Epoch 463/500\n",
      "23/23 [==============================] - 0s 2ms/step - loss: 0.1004 - accuracy: 0.9700\n",
      "Epoch 464/500\n",
      "23/23 [==============================] - 0s 2ms/step - loss: 0.0993 - accuracy: 0.9687\n",
      "Epoch 465/500\n",
      "23/23 [==============================] - 0s 3ms/step - loss: 0.1000 - accuracy: 0.9700\n",
      "Epoch 466/500\n",
      "23/23 [==============================] - 0s 2ms/step - loss: 0.1002 - accuracy: 0.9687\n",
      "Epoch 467/500\n",
      "23/23 [==============================] - 0s 2ms/step - loss: 0.0993 - accuracy: 0.9700\n",
      "Epoch 468/500\n",
      "23/23 [==============================] - 0s 2ms/step - loss: 0.1004 - accuracy: 0.9687\n",
      "Epoch 469/500\n",
      "23/23 [==============================] - 0s 3ms/step - loss: 0.1015 - accuracy: 0.9687\n",
      "Epoch 470/500\n",
      "23/23 [==============================] - 0s 4ms/step - loss: 0.1022 - accuracy: 0.9659\n",
      "Epoch 471/500\n",
      "23/23 [==============================] - 0s 4ms/step - loss: 0.0997 - accuracy: 0.9687\n",
      "Epoch 472/500\n",
      "23/23 [==============================] - 0s 4ms/step - loss: 0.0999 - accuracy: 0.9714\n",
      "Epoch 473/500\n",
      "23/23 [==============================] - 0s 4ms/step - loss: 0.0989 - accuracy: 0.9700\n",
      "Epoch 474/500\n",
      "23/23 [==============================] - 0s 4ms/step - loss: 0.0994 - accuracy: 0.9700\n",
      "Epoch 475/500\n",
      "23/23 [==============================] - 0s 4ms/step - loss: 0.1004 - accuracy: 0.9687\n",
      "Epoch 476/500\n",
      "23/23 [==============================] - 0s 3ms/step - loss: 0.0995 - accuracy: 0.9700\n",
      "Epoch 477/500\n",
      "23/23 [==============================] - 0s 2ms/step - loss: 0.0997 - accuracy: 0.9673\n",
      "Epoch 478/500\n",
      "23/23 [==============================] - 0s 3ms/step - loss: 0.0985 - accuracy: 0.9700\n",
      "Epoch 479/500\n",
      "23/23 [==============================] - 0s 2ms/step - loss: 0.0989 - accuracy: 0.9700\n",
      "Epoch 480/500\n",
      "23/23 [==============================] - 0s 2ms/step - loss: 0.1001 - accuracy: 0.9687\n",
      "Epoch 481/500\n",
      "23/23 [==============================] - 0s 3ms/step - loss: 0.0998 - accuracy: 0.9687\n",
      "Epoch 482/500\n",
      "23/23 [==============================] - 0s 5ms/step - loss: 0.0988 - accuracy: 0.9687\n",
      "Epoch 483/500\n",
      "23/23 [==============================] - 0s 4ms/step - loss: 0.0999 - accuracy: 0.9700\n",
      "Epoch 484/500\n",
      "23/23 [==============================] - 0s 3ms/step - loss: 0.0985 - accuracy: 0.9714\n",
      "Epoch 485/500\n",
      "23/23 [==============================] - 0s 2ms/step - loss: 0.0986 - accuracy: 0.9687\n",
      "Epoch 486/500\n",
      "23/23 [==============================] - 0s 3ms/step - loss: 0.1000 - accuracy: 0.9673\n",
      "Epoch 487/500\n",
      "23/23 [==============================] - 0s 2ms/step - loss: 0.0981 - accuracy: 0.9700\n",
      "Epoch 488/500\n",
      "23/23 [==============================] - 0s 4ms/step - loss: 0.0978 - accuracy: 0.9714\n",
      "Epoch 489/500\n",
      "23/23 [==============================] - 0s 4ms/step - loss: 0.0975 - accuracy: 0.9700\n",
      "Epoch 490/500\n",
      "23/23 [==============================] - 0s 3ms/step - loss: 0.0975 - accuracy: 0.9700\n",
      "Epoch 491/500\n",
      "23/23 [==============================] - 0s 3ms/step - loss: 0.0970 - accuracy: 0.9714\n",
      "Epoch 492/500\n",
      "23/23 [==============================] - 0s 2ms/step - loss: 0.0968 - accuracy: 0.9714\n",
      "Epoch 493/500\n",
      "23/23 [==============================] - 0s 2ms/step - loss: 0.0968 - accuracy: 0.9687\n",
      "Epoch 494/500\n",
      "23/23 [==============================] - 0s 4ms/step - loss: 0.0977 - accuracy: 0.9687\n",
      "Epoch 495/500\n",
      "23/23 [==============================] - 0s 3ms/step - loss: 0.0976 - accuracy: 0.9700\n",
      "Epoch 496/500\n",
      "23/23 [==============================] - 0s 4ms/step - loss: 0.0965 - accuracy: 0.9714\n",
      "Epoch 497/500\n",
      "23/23 [==============================] - 0s 4ms/step - loss: 0.0965 - accuracy: 0.9714\n",
      "Epoch 498/500\n",
      "23/23 [==============================] - 0s 3ms/step - loss: 0.0964 - accuracy: 0.9714\n",
      "Epoch 499/500\n",
      "23/23 [==============================] - 0s 4ms/step - loss: 0.0966 - accuracy: 0.9700\n",
      "Epoch 500/500\n",
      "23/23 [==============================] - 0s 3ms/step - loss: 0.0976 - accuracy: 0.9700\n"
     ]
    },
    {
     "data": {
      "text/plain": [
       "<keras.callbacks.History at 0x16d3f3e8fd0>"
      ]
     },
     "execution_count": 109,
     "metadata": {},
     "output_type": "execute_result"
    }
   ],
   "source": [
    "ann.fit(xtrain, ytrain, batch_size = 32, epochs = 500)"
   ]
  },
  {
   "cell_type": "code",
   "execution_count": 107,
   "id": "e6fea329",
   "metadata": {},
   "outputs": [
    {
     "name": "stdout",
     "output_type": "stream",
     "text": [
      "6/6 [==============================] - 0s 4ms/step\n"
     ]
    }
   ],
   "source": [
    "pred = ann.predict(xtest)\n",
    "\n",
    "ann_pred = []\n",
    "for i in pred:\n",
    "  if i > 0.5:\n",
    "    ann_pred.append(1)\n",
    "  else:\n",
    "    ann_pred.append(0)"
   ]
  },
  {
   "cell_type": "code",
   "execution_count": 108,
   "id": "99e1327c",
   "metadata": {},
   "outputs": [
    {
     "name": "stdout",
     "output_type": "stream",
     "text": [
      "              precision    recall  f1-score   support\n",
      "\n",
      "           0       0.87      0.76      0.81        89\n",
      "           1       0.80      0.89      0.85        95\n",
      "\n",
      "    accuracy                           0.83       184\n",
      "   macro avg       0.84      0.83      0.83       184\n",
      "weighted avg       0.84      0.83      0.83       184\n",
      "\n"
     ]
    }
   ],
   "source": [
    "print( classification_report(ytest, ann_pred))"
   ]
  },
  {
   "cell_type": "code",
   "execution_count": null,
   "id": "17413a68",
   "metadata": {},
   "outputs": [],
   "source": []
  },
  {
   "cell_type": "code",
   "execution_count": 85,
   "id": "237230d6",
   "metadata": {},
   "outputs": [
    {
     "name": "stdout",
     "output_type": "stream",
     "text": [
      "Random Forest:  0.5355822590183323\n"
     ]
    }
   ],
   "source": [
    "#For RF R-Square \n",
    "from sklearn.ensemble import RandomForestRegressor\n",
    "from sklearn.metrics import r2_score\n",
    "\n",
    "rf_model = RandomForestRegressor(n_estimators=100, random_state=42)\n",
    "\n",
    "rf_model.fit(xtrain, ytrain)\n",
    "\n",
    "preds = rf_model.predict(xtest)\n",
    "\n",
    "print('Random Forest: ', r2_score(ytest, preds))"
   ]
  },
  {
   "cell_type": "code",
   "execution_count": 110,
   "id": "78df6b3b",
   "metadata": {},
   "outputs": [
    {
     "data": {
      "text/plain": [
       "1.0"
      ]
     },
     "execution_count": 110,
     "metadata": {},
     "output_type": "execute_result"
    }
   ],
   "source": [
    "from sklearn.tree import DecisionTreeRegressor\n",
    "\n",
    "dt = DecisionTreeRegressor()\n",
    "dt.fit(xtrain, ytrain)\n",
    "\n",
    "preds = dt.predict(xtrain)\n",
    "\n",
    "r2_score(ytrain, preds)"
   ]
  },
  {
   "cell_type": "code",
   "execution_count": 111,
   "id": "243e9791",
   "metadata": {},
   "outputs": [
    {
     "data": {
      "text/plain": [
       "0.4994677705499705"
      ]
     },
     "execution_count": 111,
     "metadata": {},
     "output_type": "execute_result"
    }
   ],
   "source": [
    "#R-square Score\n",
    "from sklearn.metrics import r2_score\n",
    " \n",
    "r2_score(ytest, y_pred)"
   ]
  }
 ],
 "metadata": {
  "kernelspec": {
   "display_name": "Python 3 (ipykernel)",
   "language": "python",
   "name": "python3"
  },
  "language_info": {
   "codemirror_mode": {
    "name": "ipython",
    "version": 3
   },
   "file_extension": ".py",
   "mimetype": "text/x-python",
   "name": "python",
   "nbconvert_exporter": "python",
   "pygments_lexer": "ipython3",
   "version": "3.9.7"
  }
 },
 "nbformat": 4,
 "nbformat_minor": 5
}
